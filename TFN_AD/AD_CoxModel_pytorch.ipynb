{
 "cells": [
  {
   "cell_type": "code",
   "id": "initial_id",
   "metadata": {
    "collapsed": true,
    "ExecuteTime": {
     "end_time": "2025-07-26T08:20:20.715929Z",
     "start_time": "2025-07-26T08:20:20.711909Z"
    }
   },
   "source": [
    "import torch\n",
    "import torch.nn as nn\n",
    "import torch.optim as optim\n",
    "import pandas as pd\n",
    "import numpy as np\n",
    "import matplotlib.pyplot as plt\n",
    "import random\n",
    "\n",
    "def set_seed(seed=42):\n",
    "    torch.manual_seed(seed)\n",
    "    np.random.seed(seed)\n",
    "    random.seed(seed)\n",
    "\n",
    "set_seed()\n",
    "device = torch.device(\"cuda\" if torch.cuda.is_available() else \"cpu\")"
   ],
   "outputs": [],
   "execution_count": 33
  },
  {
   "metadata": {
    "ExecuteTime": {
     "end_time": "2025-07-26T08:20:20.723931Z",
     "start_time": "2025-07-26T08:20:20.720399Z"
    }
   },
   "cell_type": "code",
   "source": "device",
   "id": "73ac51d090cce59",
   "outputs": [
    {
     "data": {
      "text/plain": [
       "device(type='cuda')"
      ]
     },
     "execution_count": 34,
     "metadata": {},
     "output_type": "execute_result"
    }
   ],
   "execution_count": 34
  },
  {
   "metadata": {
    "ExecuteTime": {
     "end_time": "2025-07-26T08:20:20.738478Z",
     "start_time": "2025-07-26T08:20:20.731383Z"
    }
   },
   "cell_type": "code",
   "source": [
    "manifest = pd.read_csv(\"./AD_Patient_Manifest.csv\")\n",
    "manifest"
   ],
   "id": "e7e11923fe94d63a",
   "outputs": [
    {
     "data": {
      "text/plain": [
       "           PTID                         path\n",
       "0    002_S_0295  patients_csv\\002_S_0295.pkl\n",
       "1    002_S_0413  patients_csv\\002_S_0413.pkl\n",
       "2    002_S_0619  patients_csv\\002_S_0619.pkl\n",
       "3    002_S_0685  patients_csv\\002_S_0685.pkl\n",
       "4    002_S_0729  patients_csv\\002_S_0729.pkl\n",
       "..          ...                          ...\n",
       "377  137_S_0994  patients_csv\\137_S_0994.pkl\n",
       "378  137_S_1041  patients_csv\\137_S_1041.pkl\n",
       "379  137_S_1414  patients_csv\\137_S_1414.pkl\n",
       "380  941_S_1194  patients_csv\\941_S_1194.pkl\n",
       "381  941_S_1202  patients_csv\\941_S_1202.pkl\n",
       "\n",
       "[382 rows x 2 columns]"
      ],
      "text/html": [
       "<div>\n",
       "<style scoped>\n",
       "    .dataframe tbody tr th:only-of-type {\n",
       "        vertical-align: middle;\n",
       "    }\n",
       "\n",
       "    .dataframe tbody tr th {\n",
       "        vertical-align: top;\n",
       "    }\n",
       "\n",
       "    .dataframe thead th {\n",
       "        text-align: right;\n",
       "    }\n",
       "</style>\n",
       "<table border=\"1\" class=\"dataframe\">\n",
       "  <thead>\n",
       "    <tr style=\"text-align: right;\">\n",
       "      <th></th>\n",
       "      <th>PTID</th>\n",
       "      <th>path</th>\n",
       "    </tr>\n",
       "  </thead>\n",
       "  <tbody>\n",
       "    <tr>\n",
       "      <th>0</th>\n",
       "      <td>002_S_0295</td>\n",
       "      <td>patients_csv\\002_S_0295.pkl</td>\n",
       "    </tr>\n",
       "    <tr>\n",
       "      <th>1</th>\n",
       "      <td>002_S_0413</td>\n",
       "      <td>patients_csv\\002_S_0413.pkl</td>\n",
       "    </tr>\n",
       "    <tr>\n",
       "      <th>2</th>\n",
       "      <td>002_S_0619</td>\n",
       "      <td>patients_csv\\002_S_0619.pkl</td>\n",
       "    </tr>\n",
       "    <tr>\n",
       "      <th>3</th>\n",
       "      <td>002_S_0685</td>\n",
       "      <td>patients_csv\\002_S_0685.pkl</td>\n",
       "    </tr>\n",
       "    <tr>\n",
       "      <th>4</th>\n",
       "      <td>002_S_0729</td>\n",
       "      <td>patients_csv\\002_S_0729.pkl</td>\n",
       "    </tr>\n",
       "    <tr>\n",
       "      <th>...</th>\n",
       "      <td>...</td>\n",
       "      <td>...</td>\n",
       "    </tr>\n",
       "    <tr>\n",
       "      <th>377</th>\n",
       "      <td>137_S_0994</td>\n",
       "      <td>patients_csv\\137_S_0994.pkl</td>\n",
       "    </tr>\n",
       "    <tr>\n",
       "      <th>378</th>\n",
       "      <td>137_S_1041</td>\n",
       "      <td>patients_csv\\137_S_1041.pkl</td>\n",
       "    </tr>\n",
       "    <tr>\n",
       "      <th>379</th>\n",
       "      <td>137_S_1414</td>\n",
       "      <td>patients_csv\\137_S_1414.pkl</td>\n",
       "    </tr>\n",
       "    <tr>\n",
       "      <th>380</th>\n",
       "      <td>941_S_1194</td>\n",
       "      <td>patients_csv\\941_S_1194.pkl</td>\n",
       "    </tr>\n",
       "    <tr>\n",
       "      <th>381</th>\n",
       "      <td>941_S_1202</td>\n",
       "      <td>patients_csv\\941_S_1202.pkl</td>\n",
       "    </tr>\n",
       "  </tbody>\n",
       "</table>\n",
       "<p>382 rows × 2 columns</p>\n",
       "</div>"
      ]
     },
     "execution_count": 35,
     "metadata": {},
     "output_type": "execute_result"
    }
   ],
   "execution_count": 35
  },
  {
   "metadata": {
    "ExecuteTime": {
     "end_time": "2025-07-26T08:20:20.753481Z",
     "start_time": "2025-07-26T08:20:20.743916Z"
    }
   },
   "cell_type": "code",
   "source": [
    "patient_df = pd.read_pickle(\"patients_csv/002_S_0295.pkl\")\n",
    "patient_df"
   ],
   "id": "eca053c4c158b29d",
   "outputs": [
    {
     "data": {
      "text/plain": [
       "   RID        PTID  DX  MMSE   AGE PTGENDER  PTEDUCAT         PTETHCAT  \\\n",
       "0  295  002_S_0295  CN  28.0  84.8     Male        18  Not Hisp/Latino   \n",
       "1  295  002_S_0295  CN  28.0  84.8     Male        18  Not Hisp/Latino   \n",
       "2  295  002_S_0295  CN  30.0  84.8     Male        18  Not Hisp/Latino   \n",
       "3  295  002_S_0295  CN  29.0  84.8     Male        18  Not Hisp/Latino   \n",
       "4  295  002_S_0295  CN  28.0  84.8     Male        18  Not Hisp/Latino   \n",
       "\n",
       "  PTRACCAT  PTMARRY  ...  ADAS13  ADASQ4  Years_bl    EXAMDATE  \\\n",
       "0    White  Married  ...    4.00     1.0   0.00000  2006-05-09   \n",
       "1    White  Married  ...    6.33     1.0   0.48460  2006-11-02   \n",
       "2    White  Married  ...    5.67     1.0   1.04312  2007-05-25   \n",
       "3    White  Married  ...    5.67     2.0   2.23956  2008-08-04   \n",
       "4    White  Married  ...    6.67     3.0   2.99521  2009-05-07   \n",
       "\n",
       "                                          image_path DX_encoded  \\\n",
       "0  /home/mason/ADNI_Dataset/ADNI_IMG_32.5%_x/I118...          0   \n",
       "1  /home/mason/ADNI_Dataset/ADNI_IMG_32.5%_x/I118...          0   \n",
       "2  /home/mason/ADNI_Dataset/ADNI_IMG_32.5%_x/I640...          0   \n",
       "3  /home/mason/ADNI_Dataset/ADNI_IMG_32.5%_x/I123...          0   \n",
       "4  /home/mason/ADNI_Dataset/ADNI_IMG_32.5%_x/I150...          0   \n",
       "\n",
       "   PTGENDER_encoded  PTETHCAT_encoded  PTRACCAT_encoded  PTMARRY_encoded  \n",
       "0                 1                 1                 2                1  \n",
       "1                 1                 1                 2                1  \n",
       "2                 1                 1                 2                1  \n",
       "3                 1                 1                 2                1  \n",
       "4                 1                 1                 2                1  \n",
       "\n",
       "[5 rows x 21 columns]"
      ],
      "text/html": [
       "<div>\n",
       "<style scoped>\n",
       "    .dataframe tbody tr th:only-of-type {\n",
       "        vertical-align: middle;\n",
       "    }\n",
       "\n",
       "    .dataframe tbody tr th {\n",
       "        vertical-align: top;\n",
       "    }\n",
       "\n",
       "    .dataframe thead th {\n",
       "        text-align: right;\n",
       "    }\n",
       "</style>\n",
       "<table border=\"1\" class=\"dataframe\">\n",
       "  <thead>\n",
       "    <tr style=\"text-align: right;\">\n",
       "      <th></th>\n",
       "      <th>RID</th>\n",
       "      <th>PTID</th>\n",
       "      <th>DX</th>\n",
       "      <th>MMSE</th>\n",
       "      <th>AGE</th>\n",
       "      <th>PTGENDER</th>\n",
       "      <th>PTEDUCAT</th>\n",
       "      <th>PTETHCAT</th>\n",
       "      <th>PTRACCAT</th>\n",
       "      <th>PTMARRY</th>\n",
       "      <th>...</th>\n",
       "      <th>ADAS13</th>\n",
       "      <th>ADASQ4</th>\n",
       "      <th>Years_bl</th>\n",
       "      <th>EXAMDATE</th>\n",
       "      <th>image_path</th>\n",
       "      <th>DX_encoded</th>\n",
       "      <th>PTGENDER_encoded</th>\n",
       "      <th>PTETHCAT_encoded</th>\n",
       "      <th>PTRACCAT_encoded</th>\n",
       "      <th>PTMARRY_encoded</th>\n",
       "    </tr>\n",
       "  </thead>\n",
       "  <tbody>\n",
       "    <tr>\n",
       "      <th>0</th>\n",
       "      <td>295</td>\n",
       "      <td>002_S_0295</td>\n",
       "      <td>CN</td>\n",
       "      <td>28.0</td>\n",
       "      <td>84.8</td>\n",
       "      <td>Male</td>\n",
       "      <td>18</td>\n",
       "      <td>Not Hisp/Latino</td>\n",
       "      <td>White</td>\n",
       "      <td>Married</td>\n",
       "      <td>...</td>\n",
       "      <td>4.00</td>\n",
       "      <td>1.0</td>\n",
       "      <td>0.00000</td>\n",
       "      <td>2006-05-09</td>\n",
       "      <td>/home/mason/ADNI_Dataset/ADNI_IMG_32.5%_x/I118...</td>\n",
       "      <td>0</td>\n",
       "      <td>1</td>\n",
       "      <td>1</td>\n",
       "      <td>2</td>\n",
       "      <td>1</td>\n",
       "    </tr>\n",
       "    <tr>\n",
       "      <th>1</th>\n",
       "      <td>295</td>\n",
       "      <td>002_S_0295</td>\n",
       "      <td>CN</td>\n",
       "      <td>28.0</td>\n",
       "      <td>84.8</td>\n",
       "      <td>Male</td>\n",
       "      <td>18</td>\n",
       "      <td>Not Hisp/Latino</td>\n",
       "      <td>White</td>\n",
       "      <td>Married</td>\n",
       "      <td>...</td>\n",
       "      <td>6.33</td>\n",
       "      <td>1.0</td>\n",
       "      <td>0.48460</td>\n",
       "      <td>2006-11-02</td>\n",
       "      <td>/home/mason/ADNI_Dataset/ADNI_IMG_32.5%_x/I118...</td>\n",
       "      <td>0</td>\n",
       "      <td>1</td>\n",
       "      <td>1</td>\n",
       "      <td>2</td>\n",
       "      <td>1</td>\n",
       "    </tr>\n",
       "    <tr>\n",
       "      <th>2</th>\n",
       "      <td>295</td>\n",
       "      <td>002_S_0295</td>\n",
       "      <td>CN</td>\n",
       "      <td>30.0</td>\n",
       "      <td>84.8</td>\n",
       "      <td>Male</td>\n",
       "      <td>18</td>\n",
       "      <td>Not Hisp/Latino</td>\n",
       "      <td>White</td>\n",
       "      <td>Married</td>\n",
       "      <td>...</td>\n",
       "      <td>5.67</td>\n",
       "      <td>1.0</td>\n",
       "      <td>1.04312</td>\n",
       "      <td>2007-05-25</td>\n",
       "      <td>/home/mason/ADNI_Dataset/ADNI_IMG_32.5%_x/I640...</td>\n",
       "      <td>0</td>\n",
       "      <td>1</td>\n",
       "      <td>1</td>\n",
       "      <td>2</td>\n",
       "      <td>1</td>\n",
       "    </tr>\n",
       "    <tr>\n",
       "      <th>3</th>\n",
       "      <td>295</td>\n",
       "      <td>002_S_0295</td>\n",
       "      <td>CN</td>\n",
       "      <td>29.0</td>\n",
       "      <td>84.8</td>\n",
       "      <td>Male</td>\n",
       "      <td>18</td>\n",
       "      <td>Not Hisp/Latino</td>\n",
       "      <td>White</td>\n",
       "      <td>Married</td>\n",
       "      <td>...</td>\n",
       "      <td>5.67</td>\n",
       "      <td>2.0</td>\n",
       "      <td>2.23956</td>\n",
       "      <td>2008-08-04</td>\n",
       "      <td>/home/mason/ADNI_Dataset/ADNI_IMG_32.5%_x/I123...</td>\n",
       "      <td>0</td>\n",
       "      <td>1</td>\n",
       "      <td>1</td>\n",
       "      <td>2</td>\n",
       "      <td>1</td>\n",
       "    </tr>\n",
       "    <tr>\n",
       "      <th>4</th>\n",
       "      <td>295</td>\n",
       "      <td>002_S_0295</td>\n",
       "      <td>CN</td>\n",
       "      <td>28.0</td>\n",
       "      <td>84.8</td>\n",
       "      <td>Male</td>\n",
       "      <td>18</td>\n",
       "      <td>Not Hisp/Latino</td>\n",
       "      <td>White</td>\n",
       "      <td>Married</td>\n",
       "      <td>...</td>\n",
       "      <td>6.67</td>\n",
       "      <td>3.0</td>\n",
       "      <td>2.99521</td>\n",
       "      <td>2009-05-07</td>\n",
       "      <td>/home/mason/ADNI_Dataset/ADNI_IMG_32.5%_x/I150...</td>\n",
       "      <td>0</td>\n",
       "      <td>1</td>\n",
       "      <td>1</td>\n",
       "      <td>2</td>\n",
       "      <td>1</td>\n",
       "    </tr>\n",
       "  </tbody>\n",
       "</table>\n",
       "<p>5 rows × 21 columns</p>\n",
       "</div>"
      ]
     },
     "execution_count": 36,
     "metadata": {},
     "output_type": "execute_result"
    }
   ],
   "execution_count": 36
  },
  {
   "metadata": {
    "ExecuteTime": {
     "end_time": "2025-07-26T08:20:20.760063Z",
     "start_time": "2025-07-26T08:20:20.757760Z"
    }
   },
   "cell_type": "code",
   "source": [
    "demographic_columns = [\n",
    "    \"AGE\", \"PTEDUCAT\",\n",
    "    \"PTGENDER_encoded\", \"PTETHCAT_encoded\",\n",
    "    \"PTRACCAT_encoded\", \"PTMARRY_encoded\"\n",
    "]\n",
    "\n",
    "label_mapping = {\"CN\": 0, \"MCI\": 1, \"AD\": 2}\n",
    "max_seq_length = 5"
   ],
   "id": "d7fed21bbcc19c9c",
   "outputs": [],
   "execution_count": 37
  },
  {
   "metadata": {
    "ExecuteTime": {
     "end_time": "2025-07-26T08:20:21.056425Z",
     "start_time": "2025-07-26T08:20:20.767874Z"
    }
   },
   "cell_type": "code",
   "source": [
    "import os\n",
    "from PIL import Image\n",
    "from torchvision import transforms\n",
    "\n",
    "# ✅ Image preprocessing transform (torchvision standard)\n",
    "transform = transforms.Compose([\n",
    "    transforms.Resize((64, 64)),\n",
    "    transforms.Grayscale(),  # Grayscale (1 channel) / remove this line for RGB\n",
    "    transforms.ToTensor(),\n",
    "    transforms.Normalize(mean=[0.5], std=[0.5])\n",
    "])\n",
    "\n",
    "cox_time = []\n",
    "cox_event = []\n",
    "cox_features = []\n",
    "cox_images = []\n",
    "\n",
    "for _, row in manifest.iterrows():\n",
    "    try:\n",
    "        patient_df = pd.read_pickle(row[\"path\"])\n",
    "\n",
    "        dx_sequence = patient_df[\"DX\"].values.tolist()\n",
    "        if \"MCI\" not in dx_sequence:\n",
    "            continue\n",
    "        if \"AD\" not in dx_sequence and \"Dementia\" not in dx_sequence and dx_sequence.count(\"MCI\") == 1:\n",
    "            continue\n",
    "\n",
    "        mci_idx = dx_sequence.index(\"MCI\")\n",
    "\n",
    "        ad_idx = -1\n",
    "        for i in range(mci_idx + 1, len(dx_sequence)):\n",
    "            if dx_sequence[i] in [\"AD\", \"Dementia\"]:\n",
    "                ad_idx = i\n",
    "                break\n",
    "\n",
    "        if ad_idx != -1:\n",
    "            time = patient_df[\"Years_bl\"].iloc[ad_idx] - patient_df[\"Years_bl\"].iloc[mci_idx]\n",
    "            event = 1\n",
    "        else:\n",
    "            time = patient_df[\"Years_bl\"].iloc[-1] - patient_df[\"Years_bl\"].iloc[mci_idx]\n",
    "            event = 0\n",
    "\n",
    "        # Structured features\n",
    "        demo = patient_df[demographic_columns].iloc[mci_idx].values.astype(np.float32)\n",
    "\n",
    "        # Image path preprocessing\n",
    "        raw_path = patient_df[\"image_path\"].iloc[mci_idx]\n",
    "        image_path = raw_path.replace(\"/home/mason/ADNI_Dataset/\", \"../ADNI_Dataset/\")\n",
    "\n",
    "        if not os.path.exists(image_path):\n",
    "            print(f\"❌ Image not found: {image_path}\")\n",
    "            continue\n",
    "\n",
    "        # Load and preprocess image\n",
    "        img = Image.open(image_path).convert(\"RGB\")\n",
    "        img_tensor = transform(img).to(device)  # ✅ Send directly to GPU\n",
    "\n",
    "        # Append to dataset\n",
    "        cox_time.append(time)\n",
    "        cox_event.append(event)\n",
    "        cox_features.append(torch.tensor(demo, dtype=torch.float32).to(device))\n",
    "        cox_images.append(img_tensor)\n",
    "\n",
    "    except Exception as e:\n",
    "        print(f\"❌ Failed to process sample at index {mci_idx} in {row['path']}: {e}\")\n",
    "        continue\n",
    "\n",
    "print(f\"\\n✅ Preprocessing complete: {len(cox_features)} samples loaded.\")\n"
   ],
   "id": "e5787ac8e2c78ad3",
   "outputs": [
    {
     "name": "stdout",
     "output_type": "stream",
     "text": [
      "\n",
      "✅ Preprocessing complete: 153 samples loaded.\n"
     ]
    }
   ],
   "execution_count": 38
  },
  {
   "metadata": {},
   "cell_type": "markdown",
   "source": "#### Train Test Split",
   "id": "dbb0fa17f5252e26"
  },
  {
   "metadata": {
    "ExecuteTime": {
     "end_time": "2025-07-26T08:20:21.063291Z",
     "start_time": "2025-07-26T08:20:21.059508Z"
    }
   },
   "cell_type": "code",
   "source": [
    "from sklearn.model_selection import train_test_split\n",
    "\n",
    "# Step 1: Stack tensors (already on GPU)\n",
    "X_struct = torch.stack(cox_features)  # already on device\n",
    "X_image = torch.stack(cox_images)     # already on device\n",
    "time_tensor = torch.tensor(cox_time, dtype=torch.float32, device=device)\n",
    "event_tensor = torch.tensor(cox_event, dtype=torch.float32, device=device)\n",
    "\n",
    "# Step 2: First split indices\n",
    "indices = np.arange(X_struct.shape[0])\n",
    "train_idx, test_idx = train_test_split(indices, test_size=0.2, random_state=42)\n",
    "\n",
    "# Step 3: Split tensors using indices (keep on GPU)\n",
    "X_struct_train = X_struct[train_idx]\n",
    "X_struct_test = X_struct[test_idx]\n",
    "\n",
    "X_image_train = X_image[train_idx]\n",
    "X_image_test = X_image[test_idx]\n",
    "\n",
    "time_train = time_tensor[train_idx]\n",
    "time_test = time_tensor[test_idx]\n",
    "\n",
    "event_train = event_tensor[train_idx]\n",
    "event_test = event_tensor[test_idx]\n"
   ],
   "id": "6d7ffb5d90139fa3",
   "outputs": [],
   "execution_count": 39
  },
  {
   "metadata": {
    "ExecuteTime": {
     "end_time": "2025-07-26T08:20:21.069292Z",
     "start_time": "2025-07-26T08:20:21.065796Z"
    }
   },
   "cell_type": "code",
   "source": [
    "class CoxModel(nn.Module):\n",
    "    def __init__(self, input_dim, img_channels=1):\n",
    "        super().__init__()\n",
    "\n",
    "        # Image feature extractor\n",
    "        self.cnn = nn.Sequential(\n",
    "            nn.Conv2d(img_channels, 16, kernel_size=3, padding=1),\n",
    "            nn.BatchNorm2d(16),\n",
    "            nn.ReLU(),\n",
    "            nn.MaxPool2d(2),  # 64 → 32\n",
    "\n",
    "            nn.Conv2d(16, 32, kernel_size=3, padding=1),\n",
    "            nn.BatchNorm2d(32),\n",
    "            nn.ReLU(),\n",
    "            nn.MaxPool2d(2),  # 32 → 16\n",
    "\n",
    "            nn.Conv2d(32, 64, kernel_size=3, padding=1),\n",
    "            nn.BatchNorm2d(64),\n",
    "            nn.ReLU(),\n",
    "            nn.AdaptiveAvgPool2d((1, 1))  # → [B, 64, 1, 1]\n",
    "        )\n",
    "\n",
    "\n",
    "        # Update final MLP\n",
    "        self.net = nn.Sequential(\n",
    "            nn.Linear(input_dim + 64, 64),  # ← 더 큰 표현 공간\n",
    "            nn.ReLU(),\n",
    "            nn.BatchNorm1d(64),\n",
    "            nn.Dropout(0.3),\n",
    "\n",
    "            nn.Linear(64, 8),\n",
    "            nn.ReLU(),\n",
    "            nn.BatchNorm1d(8),\n",
    "            nn.Dropout(0.3),\n",
    "\n",
    "            nn.Linear(8, 2),\n",
    "            nn.ReLU(),\n",
    "            nn.BatchNorm1d(2),\n",
    "            nn.Dropout(0.3),\n",
    "\n",
    "            nn.Linear(2, 1)\n",
    "        )\n",
    "\n",
    "\n",
    "\n",
    "    def forward(self, struct_x, image_x):\n",
    "        # Extract image features\n",
    "        img_feat = self.cnn(image_x)         # [B, 32, 1, 1]\n",
    "        img_feat = img_feat.view(img_feat.size(0), -1)  # [B, 32]\n",
    "\n",
    "        # Concatenate structured and image features\n",
    "        x = torch.cat([struct_x, img_feat], dim=1)  # [B, input_dim + 32]\n",
    "        return self.net(x).squeeze(-1)  # [B]\n"
   ],
   "id": "3359d7cc6ce80dc9",
   "outputs": [],
   "execution_count": 40
  },
  {
   "metadata": {
    "ExecuteTime": {
     "end_time": "2025-07-26T08:20:21.074698Z",
     "start_time": "2025-07-26T08:20:21.071836Z"
    }
   },
   "cell_type": "code",
   "source": [
    "def cox_ph_loss(pred_risk, time, event, epsilon=1e-7):\n",
    "    pred_risk = pred_risk.view(-1)\n",
    "    time = time.view(-1)\n",
    "    event = event.view(-1)\n",
    "\n",
    "    order = torch.argsort(time, descending=False)\n",
    "    time = time[order]\n",
    "    event = event[order]\n",
    "    pred_risk = pred_risk[order]\n",
    "\n",
    "    exp_risk = torch.exp(pred_risk)\n",
    "    cum_sum = torch.flip(torch.cumsum(torch.flip(exp_risk, dims=[0]), dim=0), dims=[0]) + epsilon\n",
    "\n",
    "    log_risk = torch.log(cum_sum)\n",
    "    observed = pred_risk[event == 1]\n",
    "    log_sum = log_risk[event == 1]\n",
    "\n",
    "    if observed.numel() == 0:\n",
    "        return torch.tensor(0.0, requires_grad=True, device=pred_risk.device)\n",
    "\n",
    "    loss = -torch.mean(observed - log_sum)\n",
    "    return loss\n"
   ],
   "id": "821e9b64df5c20e2",
   "outputs": [],
   "execution_count": 41
  },
  {
   "metadata": {
    "ExecuteTime": {
     "end_time": "2025-07-26T08:20:21.079738Z",
     "start_time": "2025-07-26T08:20:21.076899Z"
    }
   },
   "cell_type": "code",
   "source": [
    "learning_rate = 0.0001\n",
    "epochs = 20000"
   ],
   "id": "75b5042a718241cc",
   "outputs": [],
   "execution_count": 42
  },
  {
   "metadata": {
    "ExecuteTime": {
     "end_time": "2025-07-26T08:22:15.192378Z",
     "start_time": "2025-07-26T08:20:21.090810Z"
    }
   },
   "cell_type": "code",
   "source": [
    "from tqdm import trange\n",
    "\n",
    "epochs += 1\n",
    "model = CoxModel(input_dim=X_struct_train.shape[1]).to(device)\n",
    "optimizer = optim.Adam(model.parameters(), lr=learning_rate)\n",
    "\n",
    "X_struct_train = X_struct_train.to(device)\n",
    "X_image_train = X_image_train.to(device)\n",
    "time_train = time_train.to(device)\n",
    "event_train = event_train.to(device)\n",
    "\n",
    "print(\"X_struct_train:\", X_struct_train.device)\n",
    "print(\"X_image_train:\", X_image_train.device)\n",
    "print(\"time_train:\", time_train.device)\n",
    "print(\"event_train:\", event_train.device)\n",
    "\n",
    "\n",
    "tq = trange(epochs, desc=\"Training\")\n",
    "\n",
    "for epoch in tq:\n",
    "    model.train()\n",
    "    optimizer.zero_grad()\n",
    "\n",
    "    risk_scores = model(X_struct_train, X_image_train)\n",
    "    loss = cox_ph_loss(risk_scores, time_train, event_train)\n",
    "    loss.backward()\n",
    "    optimizer.step()\n",
    "\n",
    "    tq.set_postfix(loss=loss.item())\n",
    "\n",
    "    if epoch % 1000 == 0:\n",
    "        print(f\"📌 Epoch {epoch} | Loss: {loss.item():.4f}\")\n"
   ],
   "id": "fa4cf4ae4a78b6d",
   "outputs": [
    {
     "name": "stdout",
     "output_type": "stream",
     "text": [
      "X_struct_train: cuda:0\n",
      "X_image_train: cuda:0\n",
      "time_train: cuda:0\n",
      "event_train: cuda:0\n"
     ]
    },
    {
     "name": "stderr",
     "output_type": "stream",
     "text": [
      "Training:   0%|          | 19/20001 [00:00<01:46, 187.54it/s, loss=4.41]"
     ]
    },
    {
     "name": "stdout",
     "output_type": "stream",
     "text": [
      "📌 Epoch 0 | Loss: 4.5090\n"
     ]
    },
    {
     "name": "stderr",
     "output_type": "stream",
     "text": [
      "Training:   5%|▌         | 1032/20001 [00:05<01:39, 190.93it/s, loss=3.87]"
     ]
    },
    {
     "name": "stdout",
     "output_type": "stream",
     "text": [
      "📌 Epoch 1000 | Loss: 3.9196\n"
     ]
    },
    {
     "name": "stderr",
     "output_type": "stream",
     "text": [
      "Training:  10%|█         | 2021/20001 [00:10<01:29, 199.79it/s, loss=3.56]"
     ]
    },
    {
     "name": "stdout",
     "output_type": "stream",
     "text": [
      "📌 Epoch 2000 | Loss: 3.5119\n"
     ]
    },
    {
     "name": "stderr",
     "output_type": "stream",
     "text": [
      "Training:  15%|█▌        | 3024/20001 [00:15<01:27, 193.29it/s, loss=3.31]"
     ]
    },
    {
     "name": "stdout",
     "output_type": "stream",
     "text": [
      "📌 Epoch 3000 | Loss: 3.4402\n"
     ]
    },
    {
     "name": "stderr",
     "output_type": "stream",
     "text": [
      "Training:  20%|██        | 4021/20001 [00:21<01:34, 169.68it/s, loss=3.13]"
     ]
    },
    {
     "name": "stdout",
     "output_type": "stream",
     "text": [
      "📌 Epoch 4000 | Loss: 3.3274\n"
     ]
    },
    {
     "name": "stderr",
     "output_type": "stream",
     "text": [
      "Training:  25%|██▌       | 5034/20001 [00:27<01:27, 170.66it/s, loss=3.02]"
     ]
    },
    {
     "name": "stdout",
     "output_type": "stream",
     "text": [
      "📌 Epoch 5000 | Loss: 3.2597\n"
     ]
    },
    {
     "name": "stderr",
     "output_type": "stream",
     "text": [
      "Training:  30%|███       | 6025/20001 [00:33<01:23, 166.67it/s, loss=2.99]"
     ]
    },
    {
     "name": "stdout",
     "output_type": "stream",
     "text": [
      "📌 Epoch 6000 | Loss: 2.7667\n"
     ]
    },
    {
     "name": "stderr",
     "output_type": "stream",
     "text": [
      "Training:  35%|███▌      | 7034/20001 [00:38<01:06, 195.51it/s, loss=2.72]"
     ]
    },
    {
     "name": "stdout",
     "output_type": "stream",
     "text": [
      "📌 Epoch 7000 | Loss: 2.8779\n"
     ]
    },
    {
     "name": "stderr",
     "output_type": "stream",
     "text": [
      "Training:  40%|████      | 8031/20001 [00:43<01:02, 192.78it/s, loss=3.05]"
     ]
    },
    {
     "name": "stdout",
     "output_type": "stream",
     "text": [
      "📌 Epoch 8000 | Loss: 2.7813\n"
     ]
    },
    {
     "name": "stderr",
     "output_type": "stream",
     "text": [
      "Training:  45%|████▌     | 9031/20001 [00:49<00:55, 195.90it/s, loss=2.8] "
     ]
    },
    {
     "name": "stdout",
     "output_type": "stream",
     "text": [
      "📌 Epoch 9000 | Loss: 2.7593\n"
     ]
    },
    {
     "name": "stderr",
     "output_type": "stream",
     "text": [
      "Training:  50%|█████     | 10031/20001 [00:54<00:53, 186.37it/s, loss=3.02]"
     ]
    },
    {
     "name": "stdout",
     "output_type": "stream",
     "text": [
      "📌 Epoch 10000 | Loss: 2.9049\n"
     ]
    },
    {
     "name": "stderr",
     "output_type": "stream",
     "text": [
      "Training:  55%|█████▌    | 11034/20001 [00:59<00:49, 181.24it/s, loss=2.64]"
     ]
    },
    {
     "name": "stdout",
     "output_type": "stream",
     "text": [
      "📌 Epoch 11000 | Loss: 2.8784\n"
     ]
    },
    {
     "name": "stderr",
     "output_type": "stream",
     "text": [
      "Training:  60%|██████    | 12023/20001 [01:05<00:40, 196.33it/s, loss=2.87]"
     ]
    },
    {
     "name": "stdout",
     "output_type": "stream",
     "text": [
      "📌 Epoch 12000 | Loss: 2.5470\n"
     ]
    },
    {
     "name": "stderr",
     "output_type": "stream",
     "text": [
      "Training:  65%|██████▌   | 13027/20001 [01:10<00:36, 192.43it/s, loss=2.65]"
     ]
    },
    {
     "name": "stdout",
     "output_type": "stream",
     "text": [
      "📌 Epoch 13000 | Loss: 2.6554\n"
     ]
    },
    {
     "name": "stderr",
     "output_type": "stream",
     "text": [
      "Training:  70%|███████   | 14026/20001 [01:21<00:30, 194.82it/s, loss=2.84]"
     ]
    },
    {
     "name": "stdout",
     "output_type": "stream",
     "text": [
      "📌 Epoch 14000 | Loss: 2.6112\n"
     ]
    },
    {
     "name": "stderr",
     "output_type": "stream",
     "text": [
      "Training:  75%|███████▌  | 15022/20001 [01:26<00:30, 163.80it/s, loss=2.99]"
     ]
    },
    {
     "name": "stdout",
     "output_type": "stream",
     "text": [
      "📌 Epoch 15000 | Loss: 2.8527\n"
     ]
    },
    {
     "name": "stderr",
     "output_type": "stream",
     "text": [
      "Training:  80%|████████  | 16032/20001 [01:32<00:23, 168.32it/s, loss=2.77]"
     ]
    },
    {
     "name": "stdout",
     "output_type": "stream",
     "text": [
      "📌 Epoch 16000 | Loss: 2.7178\n"
     ]
    },
    {
     "name": "stderr",
     "output_type": "stream",
     "text": [
      "Training:  85%|████████▌ | 17027/20001 [01:38<00:16, 176.39it/s, loss=2.68]"
     ]
    },
    {
     "name": "stdout",
     "output_type": "stream",
     "text": [
      "📌 Epoch 17000 | Loss: 2.6736\n"
     ]
    },
    {
     "name": "stderr",
     "output_type": "stream",
     "text": [
      "Training:  90%|█████████ | 18028/20001 [01:43<00:10, 185.90it/s, loss=2.87]"
     ]
    },
    {
     "name": "stdout",
     "output_type": "stream",
     "text": [
      "📌 Epoch 18000 | Loss: 2.6661\n"
     ]
    },
    {
     "name": "stderr",
     "output_type": "stream",
     "text": [
      "Training:  95%|█████████▌| 19028/20001 [01:48<00:05, 190.96it/s, loss=2.58]"
     ]
    },
    {
     "name": "stdout",
     "output_type": "stream",
     "text": [
      "📌 Epoch 19000 | Loss: 2.5004\n"
     ]
    },
    {
     "name": "stderr",
     "output_type": "stream",
     "text": [
      "Training: 100%|██████████| 20001/20001 [01:54<00:00, 175.30it/s, loss=2.46]"
     ]
    },
    {
     "name": "stdout",
     "output_type": "stream",
     "text": [
      "📌 Epoch 20000 | Loss: 2.4598\n"
     ]
    },
    {
     "name": "stderr",
     "output_type": "stream",
     "text": [
      "\n"
     ]
    }
   ],
   "execution_count": 43
  },
  {
   "metadata": {
    "ExecuteTime": {
     "end_time": "2025-07-26T08:22:15.210288Z",
     "start_time": "2025-07-26T08:22:15.207792Z"
    }
   },
   "cell_type": "code",
   "source": [
    "def predict_time_to_AD(risk_score, H0_func, s=0, threshold=0.5, max_years=10, step=0.1):\n",
    "    for u in np.arange(s + step, s + max_years, step):\n",
    "        surv_prob = np.exp(-(H0_func(u) - H0_func(s)) * np.exp(risk_score))\n",
    "        if surv_prob < threshold:\n",
    "            return round(u - s, 2)\n",
    "    return None\n"
   ],
   "id": "c9ecdd196dfa063c",
   "outputs": [],
   "execution_count": 44
  },
  {
   "metadata": {
    "ExecuteTime": {
     "end_time": "2025-07-26T08:22:15.235516Z",
     "start_time": "2025-07-26T08:22:15.232995Z"
    }
   },
   "cell_type": "code",
   "source": [
    "def estimate_baseline_hazard(times, events, risk_scores):\n",
    "    # Sort by time\n",
    "    order = np.argsort(times)\n",
    "    times = times[order]\n",
    "    events = events[order]\n",
    "    risk_scores = risk_scores[order]\n",
    "\n",
    "    unique_times = np.unique(times[events == 1])\n",
    "    H0 = {}\n",
    "    cum_hazard = 0.0\n",
    "\n",
    "    for t in unique_times:\n",
    "        at_risk = risk_scores[times >= t]\n",
    "        d = np.sum((times == t) & (events == 1))\n",
    "        r = np.sum(np.exp(at_risk))\n",
    "        if r > 0:\n",
    "            cum_hazard += d / r\n",
    "        H0[t] = cum_hazard\n",
    "\n",
    "    return H0\n"
   ],
   "id": "2cc30c20be360d84",
   "outputs": [],
   "execution_count": 45
  },
  {
   "metadata": {
    "ExecuteTime": {
     "end_time": "2025-07-26T08:22:15.253527Z",
     "start_time": "2025-07-26T08:22:15.241697Z"
    }
   },
   "cell_type": "code",
   "source": [
    "model.eval()\n",
    "with torch.no_grad():\n",
    "    # ✅ Move inputs to device\n",
    "    X_struct_test = X_struct_test.to(device)\n",
    "    X_image_test = X_image_test.to(device)\n",
    "    time_test = time_test.to(device)\n",
    "    event_test = event_test.to(device)\n",
    "\n",
    "    # ✅ Prediction\n",
    "    pred = model(X_struct_test, X_image_test).cpu().numpy().reshape(-1)\n",
    "    time_np = time_test.cpu().numpy().reshape(-1)\n",
    "    event_np = event_test.cpu().numpy().reshape(-1)\n",
    "\n",
    "    # Step 1: Estimate baseline hazard\n",
    "    H0_table = estimate_baseline_hazard(time_np, event_np, pred)\n",
    "    H0_func = lambda u: np.interp(u, list(H0_table.keys()), list(H0_table.values()))\n",
    "\n",
    "    # Step 2: Predict time to AD\n",
    "    print(\"\\n📋 Predicted AD conversion time (Prediction vs. Ground Truth)\\n\")\n",
    "\n",
    "    match_count = 0\n",
    "    total_count = 0\n",
    "\n",
    "    for i, risk_score in enumerate(pred):\n",
    "        t_pred = predict_time_to_AD(risk_score, H0_func, threshold=0.5)\n",
    "        t_true = time_np[i]\n",
    "        event = event_np[i]\n",
    "\n",
    "        if t_pred is not None:\n",
    "            error = abs(t_pred - t_true)\n",
    "            is_hit = (error <= 1.0)\n",
    "            status = \"✅ HIT\" if is_hit and event == 1 else (\"⚠️ MISS\" if event == 1 else \"☑️ CENSORED OK\")\n",
    "            if is_hit and event == 1:\n",
    "                match_count += 1\n",
    "            total_count += 1\n",
    "            print(f\"  - Patient {i:2d} | pred: {t_pred:5.2f} yrs | true: {t_true:5.2f} yrs | event: {event} → {status}\")\n",
    "        else:\n",
    "            print(f\"  - Patient {i:2d} | pred:   None      | true: {t_true:5.2f} yrs | event: {event} → ❌ UNPREDICTED\")\n",
    "\n",
    "    print(f\"\\n🎯 Prediction accuracy (error ≤ 1.0 & event=1): {match_count} / {total_count} = {match_count/total_count:.2%}\")\n"
   ],
   "id": "fbfd8b03cfd595e9",
   "outputs": [
    {
     "name": "stdout",
     "output_type": "stream",
     "text": [
      "\n",
      "📋 Predicted AD conversion time (Prediction vs. Ground Truth)\n",
      "\n",
      "  - Patient  0 | pred:  3.30 yrs | true:  3.30 yrs | event: 1.0 → ✅ HIT\n",
      "  - Patient  1 | pred:  3.10 yrs | true:  3.00 yrs | event: 1.0 → ✅ HIT\n",
      "  - Patient  2 | pred:  2.30 yrs | true:  3.00 yrs | event: 0.0 → ☑️ CENSORED OK\n",
      "  - Patient  3 | pred:  3.30 yrs | true:  3.01 yrs | event: 0.0 → ☑️ CENSORED OK\n",
      "  - Patient  4 | pred:  3.10 yrs | true:  2.00 yrs | event: 1.0 → ⚠️ MISS\n",
      "  - Patient  5 | pred:  3.30 yrs | true:  3.01 yrs | event: 0.0 → ☑️ CENSORED OK\n",
      "  - Patient  6 | pred:  3.20 yrs | true:  2.99 yrs | event: 0.0 → ☑️ CENSORED OK\n",
      "  - Patient  7 | pred:  1.50 yrs | true:  3.01 yrs | event: 0.0 → ☑️ CENSORED OK\n",
      "  - Patient  8 | pred:  1.60 yrs | true:  0.50 yrs | event: 1.0 → ⚠️ MISS\n",
      "  - Patient  9 | pred:  3.10 yrs | true:  1.99 yrs | event: 1.0 → ⚠️ MISS\n",
      "  - Patient 10 | pred:  3.30 yrs | true:  2.98 yrs | event: 1.0 → ✅ HIT\n",
      "  - Patient 11 | pred:  1.10 yrs | true:  1.94 yrs | event: 1.0 → ✅ HIT\n",
      "  - Patient 12 | pred:  3.10 yrs | true:  3.08 yrs | event: 1.0 → ✅ HIT\n",
      "  - Patient 13 | pred:  3.30 yrs | true:  3.04 yrs | event: 1.0 → ✅ HIT\n",
      "  - Patient 14 | pred:  3.10 yrs | true:  1.00 yrs | event: 0.0 → ☑️ CENSORED OK\n",
      "  - Patient 15 | pred:  3.20 yrs | true:  0.50 yrs | event: 1.0 → ⚠️ MISS\n",
      "  - Patient 16 | pred:  3.10 yrs | true:  0.50 yrs | event: 1.0 → ⚠️ MISS\n",
      "  - Patient 17 | pred:  3.30 yrs | true:  2.97 yrs | event: 0.0 → ☑️ CENSORED OK\n",
      "  - Patient 18 | pred:  3.30 yrs | true:  3.06 yrs | event: 0.0 → ☑️ CENSORED OK\n",
      "  - Patient 19 | pred:  3.30 yrs | true:  3.21 yrs | event: 0.0 → ☑️ CENSORED OK\n",
      "  - Patient 20 | pred:  3.30 yrs | true:  1.00 yrs | event: 1.0 → ⚠️ MISS\n",
      "  - Patient 21 | pred:  3.10 yrs | true:  1.11 yrs | event: 1.0 → ⚠️ MISS\n",
      "  - Patient 22 | pred:  3.30 yrs | true:  1.53 yrs | event: 1.0 → ⚠️ MISS\n",
      "  - Patient 23 | pred:  3.10 yrs | true:  2.04 yrs | event: 1.0 → ⚠️ MISS\n",
      "  - Patient 24 | pred:  1.60 yrs | true:  2.97 yrs | event: 0.0 → ☑️ CENSORED OK\n",
      "  - Patient 25 | pred:  0.90 yrs | true:  1.49 yrs | event: 1.0 → ✅ HIT\n",
      "  - Patient 26 | pred:  1.60 yrs | true:  2.97 yrs | event: 0.0 → ☑️ CENSORED OK\n",
      "  - Patient 27 | pred:  3.30 yrs | true:  2.98 yrs | event: 0.0 → ☑️ CENSORED OK\n",
      "  - Patient 28 | pred:  3.10 yrs | true:  3.01 yrs | event: 0.0 → ☑️ CENSORED OK\n",
      "  - Patient 29 | pred:  3.10 yrs | true:  3.01 yrs | event: 0.0 → ☑️ CENSORED OK\n",
      "  - Patient 30 | pred:  3.10 yrs | true:  1.99 yrs | event: 1.0 → ⚠️ MISS\n",
      "\n",
      "🎯 Prediction accuracy (error ≤ 1.0 & event=1): 7 / 31 = 22.58%\n"
     ]
    }
   ],
   "execution_count": 46
  },
  {
   "metadata": {
    "ExecuteTime": {
     "end_time": "2025-07-26T08:22:15.263592Z",
     "start_time": "2025-07-26T08:22:15.260899Z"
    }
   },
   "cell_type": "code",
   "source": [
    "import matplotlib.pyplot as plt\n",
    "import numpy as np\n",
    "\n",
    "def plot_survival_curve(risk_score, H0_func, max_t=5.0, step=0.1):\n",
    "    ts = np.arange(0, max_t + step, step)\n",
    "    surv_probs = [\n",
    "        np.exp(- (H0_func(t) - H0_func(0)) * np.exp(risk_score))\n",
    "        for t in ts\n",
    "    ]\n",
    "\n",
    "    plt.figure(figsize=(7, 5))\n",
    "    plt.plot(ts, surv_probs, label=\"π(u|0)\")\n",
    "    plt.axhline(0.5, color='red', linestyle='--', label=\"Threshold 0.5\")\n",
    "    plt.xlabel(\"Years Since MCI (u - s)\")\n",
    "    plt.ylabel(\"Survival Probability π(u|s)\")\n",
    "    plt.title(\"Survival Curve for One Patient\")\n",
    "    plt.legend()\n",
    "    plt.grid(True)\n",
    "    plt.show()\n"
   ],
   "id": "4160dea28af3d617",
   "outputs": [],
   "execution_count": 47
  },
  {
   "metadata": {
    "ExecuteTime": {
     "end_time": "2025-07-26T08:22:15.317421Z",
     "start_time": "2025-07-26T08:22:15.267079Z"
    }
   },
   "cell_type": "code",
   "source": [
    "i = 2 # index of the patient\n",
    "t_pred = predict_time_to_AD(pred[i], H0_func)\n",
    "t_true = time_np[i]\n",
    "event = event_np[i]\n",
    "\n",
    "print(f\"📍 Patient {i} | pred Δt: {t_pred} | true Δt: {t_true:.2f} | event: {event}\")\n",
    "\n",
    "plot_survival_curve(pred[i], H0_func)\n"
   ],
   "id": "86c888a1390a5398",
   "outputs": [
    {
     "name": "stdout",
     "output_type": "stream",
     "text": [
      "📍 Patient 2 | pred Δt: 2.3 | true Δt: 3.00 | event: 0.0\n"
     ]
    },
    {
     "data": {
      "text/plain": [
       "<Figure size 700x500 with 1 Axes>"
      ],
      "image/png": "[encoded data removed]"
     },
     "metadata": {},
     "output_type": "display_data"
    }
   ],
   "execution_count": 48
  }
 ],
 "metadata": {
  "kernelspec": {
   "display_name": "Python 3",
   "language": "python",
   "name": "python3"
  },
  "language_info": {
   "codemirror_mode": {
    "name": "ipython",
    "version": 2
   },
   "file_extension": ".py",
   "mimetype": "text/x-python",
   "name": "python",
   "nbconvert_exporter": "python",
   "pygments_lexer": "ipython2",
   "version": "2.7.6"
  }
 },
 "nbformat": 4,
 "nbformat_minor": 5
}
