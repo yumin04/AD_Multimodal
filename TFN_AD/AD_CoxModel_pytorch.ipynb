{
 "cells": [
  {
   "cell_type": "code",
   "id": "initial_id",
   "metadata": {
    "collapsed": true,
    "ExecuteTime": {
     "end_time": "2025-08-01T17:08:23.286810Z",
     "start_time": "2025-08-01T17:08:23.265501Z"
    }
   },
   "source": [
    "import torch\n",
    "import torch.nn as nn\n",
    "import torch.optim as optim\n",
    "import pandas as pd\n",
    "import numpy as np\n",
    "import matplotlib.pyplot as plt\n",
    "import random\n",
    "\n",
    "def set_seed(seed=42):\n",
    "    torch.manual_seed(seed)\n",
    "    np.random.seed(seed)\n",
    "    random.seed(seed)\n",
    "\n",
    "set_seed()\n",
    "device = torch.device(\"cuda\" if torch.cuda.is_available() else \"cpu\")"
   ],
   "outputs": [],
   "execution_count": 14
  },
  {
   "metadata": {
    "ExecuteTime": {
     "end_time": "2025-08-01T17:08:23.294900Z",
     "start_time": "2025-08-01T17:08:23.292038Z"
    }
   },
   "cell_type": "code",
   "source": "device",
   "id": "73ac51d090cce59",
   "outputs": [
    {
     "data": {
      "text/plain": [
       "device(type='cuda')"
      ]
     },
     "execution_count": 15,
     "metadata": {},
     "output_type": "execute_result"
    }
   ],
   "execution_count": 15
  },
  {
   "metadata": {
    "ExecuteTime": {
     "end_time": "2025-08-01T17:08:23.310846Z",
     "start_time": "2025-08-01T17:08:23.304132Z"
    }
   },
   "cell_type": "code",
   "source": [
    "manifest = pd.read_csv(\"./AD_Patient_Manifest.csv\")\n",
    "manifest"
   ],
   "id": "e7e11923fe94d63a",
   "outputs": [
    {
     "data": {
      "text/plain": [
       "           PTID                         path\n",
       "0    002_S_0295  patients_csv\\002_S_0295.pkl\n",
       "1    002_S_0413  patients_csv\\002_S_0413.pkl\n",
       "2    002_S_0619  patients_csv\\002_S_0619.pkl\n",
       "3    002_S_0685  patients_csv\\002_S_0685.pkl\n",
       "4    002_S_0729  patients_csv\\002_S_0729.pkl\n",
       "..          ...                          ...\n",
       "377  137_S_0994  patients_csv\\137_S_0994.pkl\n",
       "378  137_S_1041  patients_csv\\137_S_1041.pkl\n",
       "379  137_S_1414  patients_csv\\137_S_1414.pkl\n",
       "380  941_S_1194  patients_csv\\941_S_1194.pkl\n",
       "381  941_S_1202  patients_csv\\941_S_1202.pkl\n",
       "\n",
       "[382 rows x 2 columns]"
      ],
      "text/html": [
       "<div>\n",
       "<style scoped>\n",
       "    .dataframe tbody tr th:only-of-type {\n",
       "        vertical-align: middle;\n",
       "    }\n",
       "\n",
       "    .dataframe tbody tr th {\n",
       "        vertical-align: top;\n",
       "    }\n",
       "\n",
       "    .dataframe thead th {\n",
       "        text-align: right;\n",
       "    }\n",
       "</style>\n",
       "<table border=\"1\" class=\"dataframe\">\n",
       "  <thead>\n",
       "    <tr style=\"text-align: right;\">\n",
       "      <th></th>\n",
       "      <th>PTID</th>\n",
       "      <th>path</th>\n",
       "    </tr>\n",
       "  </thead>\n",
       "  <tbody>\n",
       "    <tr>\n",
       "      <th>0</th>\n",
       "      <td>002_S_0295</td>\n",
       "      <td>patients_csv\\002_S_0295.pkl</td>\n",
       "    </tr>\n",
       "    <tr>\n",
       "      <th>1</th>\n",
       "      <td>002_S_0413</td>\n",
       "      <td>patients_csv\\002_S_0413.pkl</td>\n",
       "    </tr>\n",
       "    <tr>\n",
       "      <th>2</th>\n",
       "      <td>002_S_0619</td>\n",
       "      <td>patients_csv\\002_S_0619.pkl</td>\n",
       "    </tr>\n",
       "    <tr>\n",
       "      <th>3</th>\n",
       "      <td>002_S_0685</td>\n",
       "      <td>patients_csv\\002_S_0685.pkl</td>\n",
       "    </tr>\n",
       "    <tr>\n",
       "      <th>4</th>\n",
       "      <td>002_S_0729</td>\n",
       "      <td>patients_csv\\002_S_0729.pkl</td>\n",
       "    </tr>\n",
       "    <tr>\n",
       "      <th>...</th>\n",
       "      <td>...</td>\n",
       "      <td>...</td>\n",
       "    </tr>\n",
       "    <tr>\n",
       "      <th>377</th>\n",
       "      <td>137_S_0994</td>\n",
       "      <td>patients_csv\\137_S_0994.pkl</td>\n",
       "    </tr>\n",
       "    <tr>\n",
       "      <th>378</th>\n",
       "      <td>137_S_1041</td>\n",
       "      <td>patients_csv\\137_S_1041.pkl</td>\n",
       "    </tr>\n",
       "    <tr>\n",
       "      <th>379</th>\n",
       "      <td>137_S_1414</td>\n",
       "      <td>patients_csv\\137_S_1414.pkl</td>\n",
       "    </tr>\n",
       "    <tr>\n",
       "      <th>380</th>\n",
       "      <td>941_S_1194</td>\n",
       "      <td>patients_csv\\941_S_1194.pkl</td>\n",
       "    </tr>\n",
       "    <tr>\n",
       "      <th>381</th>\n",
       "      <td>941_S_1202</td>\n",
       "      <td>patients_csv\\941_S_1202.pkl</td>\n",
       "    </tr>\n",
       "  </tbody>\n",
       "</table>\n",
       "<p>382 rows × 2 columns</p>\n",
       "</div>"
      ]
     },
     "execution_count": 16,
     "metadata": {},
     "output_type": "execute_result"
    }
   ],
   "execution_count": 16
  },
  {
   "metadata": {
    "ExecuteTime": {
     "end_time": "2025-08-01T17:08:23.327945Z",
     "start_time": "2025-08-01T17:08:23.315952Z"
    }
   },
   "cell_type": "code",
   "source": [
    "patient_df = pd.read_pickle(\"patients_csv/002_S_0295.pkl\")\n",
    "patient_df"
   ],
   "id": "eca053c4c158b29d",
   "outputs": [
    {
     "data": {
      "text/plain": [
       "   RID        PTID  DX  MMSE   AGE PTGENDER  PTEDUCAT         PTETHCAT  \\\n",
       "0  295  002_S_0295  CN  28.0  84.8     Male        18  Not Hisp/Latino   \n",
       "1  295  002_S_0295  CN  28.0  84.8     Male        18  Not Hisp/Latino   \n",
       "2  295  002_S_0295  CN  30.0  84.8     Male        18  Not Hisp/Latino   \n",
       "3  295  002_S_0295  CN  29.0  84.8     Male        18  Not Hisp/Latino   \n",
       "4  295  002_S_0295  CN  28.0  84.8     Male        18  Not Hisp/Latino   \n",
       "\n",
       "  PTRACCAT  PTMARRY  ...  ADAS13  ADASQ4  Years_bl    EXAMDATE  \\\n",
       "0    White  Married  ...    4.00     1.0   0.00000  2006-05-09   \n",
       "1    White  Married  ...    6.33     1.0   0.48460  2006-11-02   \n",
       "2    White  Married  ...    5.67     1.0   1.04312  2007-05-25   \n",
       "3    White  Married  ...    5.67     2.0   2.23956  2008-08-04   \n",
       "4    White  Married  ...    6.67     3.0   2.99521  2009-05-07   \n",
       "\n",
       "                                          image_path DX_encoded  \\\n",
       "0  /home/mason/ADNI_Dataset/ADNI_IMG_32.5%_x/I118...          0   \n",
       "1  /home/mason/ADNI_Dataset/ADNI_IMG_32.5%_x/I118...          0   \n",
       "2  /home/mason/ADNI_Dataset/ADNI_IMG_32.5%_x/I640...          0   \n",
       "3  /home/mason/ADNI_Dataset/ADNI_IMG_32.5%_x/I123...          0   \n",
       "4  /home/mason/ADNI_Dataset/ADNI_IMG_32.5%_x/I150...          0   \n",
       "\n",
       "   PTGENDER_encoded  PTETHCAT_encoded  PTRACCAT_encoded  PTMARRY_encoded  \n",
       "0                 1                 1                 2                1  \n",
       "1                 1                 1                 2                1  \n",
       "2                 1                 1                 2                1  \n",
       "3                 1                 1                 2                1  \n",
       "4                 1                 1                 2                1  \n",
       "\n",
       "[5 rows x 21 columns]"
      ],
      "text/html": [
       "<div>\n",
       "<style scoped>\n",
       "    .dataframe tbody tr th:only-of-type {\n",
       "        vertical-align: middle;\n",
       "    }\n",
       "\n",
       "    .dataframe tbody tr th {\n",
       "        vertical-align: top;\n",
       "    }\n",
       "\n",
       "    .dataframe thead th {\n",
       "        text-align: right;\n",
       "    }\n",
       "</style>\n",
       "<table border=\"1\" class=\"dataframe\">\n",
       "  <thead>\n",
       "    <tr style=\"text-align: right;\">\n",
       "      <th></th>\n",
       "      <th>RID</th>\n",
       "      <th>PTID</th>\n",
       "      <th>DX</th>\n",
       "      <th>MMSE</th>\n",
       "      <th>AGE</th>\n",
       "      <th>PTGENDER</th>\n",
       "      <th>PTEDUCAT</th>\n",
       "      <th>PTETHCAT</th>\n",
       "      <th>PTRACCAT</th>\n",
       "      <th>PTMARRY</th>\n",
       "      <th>...</th>\n",
       "      <th>ADAS13</th>\n",
       "      <th>ADASQ4</th>\n",
       "      <th>Years_bl</th>\n",
       "      <th>EXAMDATE</th>\n",
       "      <th>image_path</th>\n",
       "      <th>DX_encoded</th>\n",
       "      <th>PTGENDER_encoded</th>\n",
       "      <th>PTETHCAT_encoded</th>\n",
       "      <th>PTRACCAT_encoded</th>\n",
       "      <th>PTMARRY_encoded</th>\n",
       "    </tr>\n",
       "  </thead>\n",
       "  <tbody>\n",
       "    <tr>\n",
       "      <th>0</th>\n",
       "      <td>295</td>\n",
       "      <td>002_S_0295</td>\n",
       "      <td>CN</td>\n",
       "      <td>28.0</td>\n",
       "      <td>84.8</td>\n",
       "      <td>Male</td>\n",
       "      <td>18</td>\n",
       "      <td>Not Hisp/Latino</td>\n",
       "      <td>White</td>\n",
       "      <td>Married</td>\n",
       "      <td>...</td>\n",
       "      <td>4.00</td>\n",
       "      <td>1.0</td>\n",
       "      <td>0.00000</td>\n",
       "      <td>2006-05-09</td>\n",
       "      <td>/home/mason/ADNI_Dataset/ADNI_IMG_32.5%_x/I118...</td>\n",
       "      <td>0</td>\n",
       "      <td>1</td>\n",
       "      <td>1</td>\n",
       "      <td>2</td>\n",
       "      <td>1</td>\n",
       "    </tr>\n",
       "    <tr>\n",
       "      <th>1</th>\n",
       "      <td>295</td>\n",
       "      <td>002_S_0295</td>\n",
       "      <td>CN</td>\n",
       "      <td>28.0</td>\n",
       "      <td>84.8</td>\n",
       "      <td>Male</td>\n",
       "      <td>18</td>\n",
       "      <td>Not Hisp/Latino</td>\n",
       "      <td>White</td>\n",
       "      <td>Married</td>\n",
       "      <td>...</td>\n",
       "      <td>6.33</td>\n",
       "      <td>1.0</td>\n",
       "      <td>0.48460</td>\n",
       "      <td>2006-11-02</td>\n",
       "      <td>/home/mason/ADNI_Dataset/ADNI_IMG_32.5%_x/I118...</td>\n",
       "      <td>0</td>\n",
       "      <td>1</td>\n",
       "      <td>1</td>\n",
       "      <td>2</td>\n",
       "      <td>1</td>\n",
       "    </tr>\n",
       "    <tr>\n",
       "      <th>2</th>\n",
       "      <td>295</td>\n",
       "      <td>002_S_0295</td>\n",
       "      <td>CN</td>\n",
       "      <td>30.0</td>\n",
       "      <td>84.8</td>\n",
       "      <td>Male</td>\n",
       "      <td>18</td>\n",
       "      <td>Not Hisp/Latino</td>\n",
       "      <td>White</td>\n",
       "      <td>Married</td>\n",
       "      <td>...</td>\n",
       "      <td>5.67</td>\n",
       "      <td>1.0</td>\n",
       "      <td>1.04312</td>\n",
       "      <td>2007-05-25</td>\n",
       "      <td>/home/mason/ADNI_Dataset/ADNI_IMG_32.5%_x/I640...</td>\n",
       "      <td>0</td>\n",
       "      <td>1</td>\n",
       "      <td>1</td>\n",
       "      <td>2</td>\n",
       "      <td>1</td>\n",
       "    </tr>\n",
       "    <tr>\n",
       "      <th>3</th>\n",
       "      <td>295</td>\n",
       "      <td>002_S_0295</td>\n",
       "      <td>CN</td>\n",
       "      <td>29.0</td>\n",
       "      <td>84.8</td>\n",
       "      <td>Male</td>\n",
       "      <td>18</td>\n",
       "      <td>Not Hisp/Latino</td>\n",
       "      <td>White</td>\n",
       "      <td>Married</td>\n",
       "      <td>...</td>\n",
       "      <td>5.67</td>\n",
       "      <td>2.0</td>\n",
       "      <td>2.23956</td>\n",
       "      <td>2008-08-04</td>\n",
       "      <td>/home/mason/ADNI_Dataset/ADNI_IMG_32.5%_x/I123...</td>\n",
       "      <td>0</td>\n",
       "      <td>1</td>\n",
       "      <td>1</td>\n",
       "      <td>2</td>\n",
       "      <td>1</td>\n",
       "    </tr>\n",
       "    <tr>\n",
       "      <th>4</th>\n",
       "      <td>295</td>\n",
       "      <td>002_S_0295</td>\n",
       "      <td>CN</td>\n",
       "      <td>28.0</td>\n",
       "      <td>84.8</td>\n",
       "      <td>Male</td>\n",
       "      <td>18</td>\n",
       "      <td>Not Hisp/Latino</td>\n",
       "      <td>White</td>\n",
       "      <td>Married</td>\n",
       "      <td>...</td>\n",
       "      <td>6.67</td>\n",
       "      <td>3.0</td>\n",
       "      <td>2.99521</td>\n",
       "      <td>2009-05-07</td>\n",
       "      <td>/home/mason/ADNI_Dataset/ADNI_IMG_32.5%_x/I150...</td>\n",
       "      <td>0</td>\n",
       "      <td>1</td>\n",
       "      <td>1</td>\n",
       "      <td>2</td>\n",
       "      <td>1</td>\n",
       "    </tr>\n",
       "  </tbody>\n",
       "</table>\n",
       "<p>5 rows × 21 columns</p>\n",
       "</div>"
      ]
     },
     "execution_count": 17,
     "metadata": {},
     "output_type": "execute_result"
    }
   ],
   "execution_count": 17
  },
  {
   "metadata": {
    "ExecuteTime": {
     "end_time": "2025-08-01T17:08:23.335046Z",
     "start_time": "2025-08-01T17:08:23.332358Z"
    }
   },
   "cell_type": "code",
   "source": [
    "demographic_columns = [\n",
    "    \"AGE\", \"PTEDUCAT\",\n",
    "    \"PTGENDER_encoded\", \"PTETHCAT_encoded\",\n",
    "    \"PTRACCAT_encoded\", \"PTMARRY_encoded\"\n",
    "]\n",
    "\n",
    "label_mapping = {\"CN\": 0, \"MCI\": 1, \"AD\": 2}\n",
    "max_seq_length = 5"
   ],
   "id": "d7fed21bbcc19c9c",
   "outputs": [],
   "execution_count": 18
  },
  {
   "metadata": {
    "ExecuteTime": {
     "end_time": "2025-08-01T17:08:23.676691Z",
     "start_time": "2025-08-01T17:08:23.340846Z"
    }
   },
   "cell_type": "code",
   "source": [
    "import os\n",
    "from PIL import Image\n",
    "from torchvision import transforms\n",
    "\n",
    "# ✅ Image preprocessing transform (torchvision standard)\n",
    "transform = transforms.Compose([\n",
    "    transforms.Resize((64, 64)),\n",
    "    transforms.Grayscale(),  # Grayscale (1 channel) / remove this line for RGB\n",
    "    transforms.ToTensor(),\n",
    "    transforms.Normalize(mean=[0.5], std=[0.5])\n",
    "])\n",
    "\n",
    "cox_time = []\n",
    "cox_event = []\n",
    "cox_features = []\n",
    "cox_images = []\n",
    "\n",
    "for _, row in manifest.iterrows():\n",
    "    try:\n",
    "        patient_df = pd.read_pickle(row[\"path\"])\n",
    "\n",
    "        dx_sequence = patient_df[\"DX\"].values.tolist()\n",
    "        if \"MCI\" not in dx_sequence:\n",
    "            continue\n",
    "        if \"AD\" not in dx_sequence and \"Dementia\" not in dx_sequence and dx_sequence.count(\"MCI\") == 1:\n",
    "            continue\n",
    "\n",
    "        mci_idx = dx_sequence.index(\"MCI\")\n",
    "\n",
    "        ad_idx = -1\n",
    "        for i in range(mci_idx + 1, len(dx_sequence)):\n",
    "            if dx_sequence[i] in [\"AD\", \"Dementia\"]:\n",
    "                ad_idx = i\n",
    "                break\n",
    "\n",
    "        if ad_idx != -1:\n",
    "            time = patient_df[\"Years_bl\"].iloc[ad_idx] - patient_df[\"Years_bl\"].iloc[mci_idx]\n",
    "            event = 1\n",
    "        else:\n",
    "            time = patient_df[\"Years_bl\"].iloc[-1] - patient_df[\"Years_bl\"].iloc[mci_idx]\n",
    "            event = 0\n",
    "\n",
    "        # Structured features\n",
    "        demo = patient_df[demographic_columns].iloc[mci_idx].values.astype(np.float32)\n",
    "\n",
    "        # Image path preprocessing\n",
    "        raw_path = patient_df[\"image_path\"].iloc[mci_idx]\n",
    "        image_path = raw_path.replace(\"/home/mason/ADNI_Dataset/\", \"../ADNI_Dataset/\")\n",
    "\n",
    "        if not os.path.exists(image_path):\n",
    "            print(f\"❌ Image not found: {image_path}\")\n",
    "            continue\n",
    "\n",
    "        # Load and preprocess image\n",
    "        img = Image.open(image_path).convert(\"RGB\")\n",
    "        img_tensor = transform(img).to(device)  # ✅ Send directly to GPU\n",
    "\n",
    "        # Append to dataset\n",
    "        cox_time.append(time)\n",
    "        cox_event.append(event)\n",
    "        cox_features.append(torch.tensor(demo, dtype=torch.float32).to(device))\n",
    "        cox_images.append(img_tensor)\n",
    "\n",
    "    except Exception as e:\n",
    "        print(f\"❌ Failed to process sample at index {mci_idx} in {row['path']}: {e}\")\n",
    "        continue\n",
    "\n",
    "print(f\"\\n✅ Preprocessing complete: {len(cox_features)} samples loaded.\")\n"
   ],
   "id": "e5787ac8e2c78ad3",
   "outputs": [
    {
     "name": "stdout",
     "output_type": "stream",
     "text": [
      "\n",
      "✅ Preprocessing complete: 153 samples loaded.\n"
     ]
    }
   ],
   "execution_count": 19
  },
  {
   "metadata": {},
   "cell_type": "markdown",
   "source": "#### Train Test Split",
   "id": "dbb0fa17f5252e26"
  },
  {
   "metadata": {
    "ExecuteTime": {
     "end_time": "2025-08-01T17:08:23.685664Z",
     "start_time": "2025-08-01T17:08:23.681580Z"
    }
   },
   "cell_type": "code",
   "source": [
    "from sklearn.model_selection import train_test_split\n",
    "\n",
    "# Step 1: Stack tensors (already on GPU)\n",
    "X_struct = torch.stack(cox_features)  # already on device\n",
    "X_image = torch.stack(cox_images)     # already on device\n",
    "time_tensor = torch.tensor(cox_time, dtype=torch.float32, device=device)\n",
    "event_tensor = torch.tensor(cox_event, dtype=torch.float32, device=device)\n",
    "\n",
    "# Step 2: First split indices\n",
    "indices = np.arange(X_struct.shape[0])\n",
    "train_idx, test_idx = train_test_split(indices, test_size=0.2, random_state=42)\n",
    "\n",
    "# Step 3: Split tensors using indices (keep on GPU)\n",
    "X_struct_train = X_struct[train_idx]\n",
    "X_struct_test = X_struct[test_idx]\n",
    "\n",
    "X_image_train = X_image[train_idx]\n",
    "X_image_test = X_image[test_idx]\n",
    "\n",
    "time_train = time_tensor[train_idx]\n",
    "time_test = time_tensor[test_idx]\n",
    "\n",
    "event_train = event_tensor[train_idx]\n",
    "event_test = event_tensor[test_idx]\n"
   ],
   "id": "6d7ffb5d90139fa3",
   "outputs": [],
   "execution_count": 20
  },
  {
   "metadata": {
    "ExecuteTime": {
     "end_time": "2025-08-01T17:08:23.693528Z",
     "start_time": "2025-08-01T17:08:23.689868Z"
    }
   },
   "cell_type": "code",
   "source": [
    "class CoxModel(nn.Module):\n",
    "    def __init__(self, input_dim, img_channels=1):\n",
    "        super().__init__()\n",
    "\n",
    "        # Image feature extractor\n",
    "        self.cnn = nn.Sequential(\n",
    "            nn.Conv2d(img_channels, 16, kernel_size=3, padding=1),\n",
    "            nn.BatchNorm2d(16),\n",
    "            nn.ReLU(),\n",
    "            nn.MaxPool2d(2),  # 64 → 32\n",
    "\n",
    "            nn.Conv2d(16, 32, kernel_size=3, padding=1),\n",
    "            nn.BatchNorm2d(32),\n",
    "            nn.ReLU(),\n",
    "            nn.MaxPool2d(2),  # 32 → 16\n",
    "\n",
    "            nn.Conv2d(32, 64, kernel_size=3, padding=1),\n",
    "            nn.BatchNorm2d(64),\n",
    "            nn.ReLU(),\n",
    "            nn.AdaptiveAvgPool2d((1, 1))  # → [B, 64, 1, 1]\n",
    "        )\n",
    "\n",
    "\n",
    "        # Update final MLP\n",
    "        self.net = nn.Sequential(\n",
    "            nn.Linear(input_dim + 64, 64),  # ← 더 큰 표현 공간\n",
    "            nn.ReLU(),\n",
    "            nn.BatchNorm1d(64),\n",
    "            nn.Dropout(0.3),\n",
    "\n",
    "            nn.Linear(64, 8),\n",
    "            nn.ReLU(),\n",
    "            nn.BatchNorm1d(8),\n",
    "            nn.Dropout(0.3),\n",
    "\n",
    "            nn.Linear(8, 2),\n",
    "            nn.ReLU(),\n",
    "            nn.BatchNorm1d(2),\n",
    "            nn.Dropout(0.3),\n",
    "\n",
    "            nn.Linear(2, 1)\n",
    "        )\n",
    "\n",
    "\n",
    "\n",
    "    def forward(self, struct_x, image_x):\n",
    "        # Extract image features\n",
    "        img_feat = self.cnn(image_x)         # [B, 32, 1, 1]\n",
    "        img_feat = img_feat.view(img_feat.size(0), -1)  # [B, 32]\n",
    "\n",
    "        # Concatenate structured and image features\n",
    "        x = torch.cat([struct_x, img_feat], dim=1)  # [B, input_dim + 32]\n",
    "        return self.net(x).squeeze(-1)  # [B]\n"
   ],
   "id": "3359d7cc6ce80dc9",
   "outputs": [],
   "execution_count": 21
  },
  {
   "metadata": {
    "ExecuteTime": {
     "end_time": "2025-08-01T17:08:23.700038Z",
     "start_time": "2025-08-01T17:08:23.696335Z"
    }
   },
   "cell_type": "code",
   "source": [
    "class Efron_loss_penalty(nn.Module):\n",
    "    def __init__(self, penalty):\n",
    "        super(Efron_loss_penalty, self).__init__()\n",
    "        self.penalty = penalty  # float, not a tensor\n",
    "\n",
    "    def forward(self, times, events, risk):\n",
    "        loss = torch.tensor([0.0], device=risk.device)  # Ensure correct device\n",
    "        exp_risk = torch.exp(risk)\n",
    "        T = torch.unique(times)\n",
    "        tie_count_list = []\n",
    "        cum_exp_risk = []\n",
    "        failure_time = []\n",
    "\n",
    "        for t in range(len(T)):\n",
    "            index = times == T[t]\n",
    "            tie_index = (times == T[t]) & (events == 1)\n",
    "            tie_counts = len(times[tie_index])\n",
    "            temp_loss = torch.tensor([0.0], device=risk.device)\n",
    "            tie_risk = risk[tie_index]\n",
    "            tie_exp_risk = torch.sum(exp_risk[tie_index])\n",
    "            if tie_counts > 0:\n",
    "                temp_loss += self.penalty * torch.sum(torch.abs(risk[index]))\n",
    "\n",
    "            failure_time.append(T[t].detach().cpu().numpy())\n",
    "            tie_count_list.append(tie_counts)\n",
    "            cum_exp_risk.append(torch.sum(exp_risk[index]).detach().cpu().numpy())\n",
    "\n",
    "            for j in range(tie_counts):\n",
    "                temp = tie_risk[j] - torch.log(torch.sum(exp_risk[index]) - j / tie_counts * tie_exp_risk)\n",
    "                temp_loss -= temp\n",
    "\n",
    "            loss += temp_loss\n",
    "\n",
    "        return loss, np.array(tie_count_list), np.array(cum_exp_risk), np.array(failure_time)\n"
   ],
   "id": "e2cdd79646769281",
   "outputs": [],
   "execution_count": 22
  },
  {
   "metadata": {
    "ExecuteTime": {
     "end_time": "2025-08-01T17:08:23.705155Z",
     "start_time": "2025-08-01T17:08:23.702524Z"
    }
   },
   "cell_type": "code",
   "source": [
    "def cox_ph_loss(pred_risk, time, event, epsilon=1e-7):\n",
    "    pred_risk = pred_risk.view(-1)\n",
    "    time = time.view(-1)\n",
    "    event = event.view(-1)\n",
    "\n",
    "    order = torch.argsort(time, descending=False)\n",
    "    time = time[order]\n",
    "    event = event[order]\n",
    "    pred_risk = pred_risk[order]\n",
    "\n",
    "    exp_risk = torch.exp(pred_risk)\n",
    "    cum_sum = torch.flip(torch.cumsum(torch.flip(exp_risk, dims=[0]), dim=0), dims=[0]) + epsilon\n",
    "\n",
    "    log_risk = torch.log(cum_sum)\n",
    "    observed = pred_risk[event == 1]\n",
    "    log_sum = log_risk[event == 1]\n",
    "\n",
    "    if observed.numel() == 0:\n",
    "        return torch.tensor(0.0, requires_grad=True, device=pred_risk.device)\n",
    "\n",
    "    loss = -torch.mean(observed - log_sum)\n",
    "    return loss\n"
   ],
   "id": "821e9b64df5c20e2",
   "outputs": [],
   "execution_count": 23
  },
  {
   "metadata": {
    "ExecuteTime": {
     "end_time": "2025-08-01T17:08:23.710029Z",
     "start_time": "2025-08-01T17:08:23.708353Z"
    }
   },
   "cell_type": "code",
   "source": [
    "learning_rate = 0.0001\n",
    "epochs = 20000"
   ],
   "id": "75b5042a718241cc",
   "outputs": [],
   "execution_count": 24
  },
  {
   "metadata": {
    "ExecuteTime": {
     "end_time": "2025-08-01T17:46:51.582094Z",
     "start_time": "2025-08-01T17:08:23.715396Z"
    }
   },
   "cell_type": "code",
   "source": [
    "from tqdm import trange\n",
    "\n",
    "epochs += 1\n",
    "model = CoxModel(input_dim=X_struct_train.shape[1]).to(device)\n",
    "optimizer = optim.Adam(model.parameters(), lr=learning_rate)\n",
    "\n",
    "# Move data to device\n",
    "X_struct_train = X_struct_train.to(device)\n",
    "X_image_train = X_image_train.to(device)\n",
    "time_train = time_train.to(device)\n",
    "event_train = event_train.to(device)\n",
    "\n",
    "# Debug: Confirm device\n",
    "print(\"X_struct_train:\", X_struct_train.device)\n",
    "print(\"X_image_train:\", X_image_train.device)\n",
    "print(\"time_train:\", time_train.device)\n",
    "print(\"event_train:\", event_train.device)\n",
    "\n",
    "# Initialize Efron penalty loss\n",
    "penalty_lambda = 0.01\n",
    "efron_loss_fn = Efron_loss_penalty(penalty=penalty_lambda).to(device)\n",
    "\n",
    "tq = trange(epochs, desc=\"Training\")\n",
    "\n",
    "for epoch in tq:\n",
    "    model.train()\n",
    "    optimizer.zero_grad()\n",
    "\n",
    "    risk_scores = model(X_struct_train, X_image_train)\n",
    "    loss, _, _, _ = efron_loss_fn(times=time_train, events=event_train, risk=risk_scores)\n",
    "\n",
    "    loss.backward()\n",
    "    optimizer.step()\n",
    "\n",
    "    tq.set_postfix(loss=loss.item())\n",
    "\n",
    "    if epoch % 1000 == 0:\n",
    "        print(f\"📌 Epoch {epoch} | Loss: {loss.item():.4f}\")\n"
   ],
   "id": "fa4cf4ae4a78b6d",
   "outputs": [
    {
     "name": "stdout",
     "output_type": "stream",
     "text": [
      "X_struct_train: cuda:0\n",
      "X_image_train: cuda:0\n",
      "time_train: cuda:0\n",
      "event_train: cuda:0\n"
     ]
    },
    {
     "name": "stderr",
     "output_type": "stream",
     "text": [
      "Training:   0%|          | 3/20001 [00:00<47:41,  6.99it/s, loss=15.1]  "
     ]
    },
    {
     "name": "stdout",
     "output_type": "stream",
     "text": [
      "📌 Epoch 0 | Loss: 14.9531\n"
     ]
    },
    {
     "name": "stderr",
     "output_type": "stream",
     "text": [
      "Training:   5%|▌         | 1003/20001 [01:49<32:06,  9.86it/s, loss=9.92]"
     ]
    },
    {
     "name": "stdout",
     "output_type": "stream",
     "text": [
      "📌 Epoch 1000 | Loss: 10.2000\n"
     ]
    },
    {
     "name": "stderr",
     "output_type": "stream",
     "text": [
      "Training:  10%|█         | 2002/20001 [03:40<34:15,  8.76it/s, loss=7.05]"
     ]
    },
    {
     "name": "stdout",
     "output_type": "stream",
     "text": [
      "📌 Epoch 2000 | Loss: 7.5436\n"
     ]
    },
    {
     "name": "stderr",
     "output_type": "stream",
     "text": [
      "Training:  15%|█▌        | 3002/20001 [05:41<30:03,  9.43it/s, loss=10.7]"
     ]
    },
    {
     "name": "stdout",
     "output_type": "stream",
     "text": [
      "📌 Epoch 3000 | Loss: 7.0574\n"
     ]
    },
    {
     "name": "stderr",
     "output_type": "stream",
     "text": [
      "Training:  20%|██        | 4002/20001 [07:36<32:12,  8.28it/s, loss=8.83]"
     ]
    },
    {
     "name": "stdout",
     "output_type": "stream",
     "text": [
      "📌 Epoch 4000 | Loss: 8.4012\n"
     ]
    },
    {
     "name": "stderr",
     "output_type": "stream",
     "text": [
      "Training:  25%|██▌       | 5002/20001 [09:31<33:39,  7.43it/s, loss=8.34]"
     ]
    },
    {
     "name": "stdout",
     "output_type": "stream",
     "text": [
      "📌 Epoch 5000 | Loss: 8.6251\n"
     ]
    },
    {
     "name": "stderr",
     "output_type": "stream",
     "text": [
      "Training:  30%|███       | 6002/20001 [11:29<24:49,  9.40it/s, loss=7.26]"
     ]
    },
    {
     "name": "stdout",
     "output_type": "stream",
     "text": [
      "📌 Epoch 6000 | Loss: 6.9571\n"
     ]
    },
    {
     "name": "stderr",
     "output_type": "stream",
     "text": [
      "Training:  35%|███▌      | 7002/20001 [13:26<24:25,  8.87it/s, loss=8.95]"
     ]
    },
    {
     "name": "stdout",
     "output_type": "stream",
     "text": [
      "📌 Epoch 7000 | Loss: 7.6593\n"
     ]
    },
    {
     "name": "stderr",
     "output_type": "stream",
     "text": [
      "Training:  40%|████      | 8002/20001 [15:22<22:55,  8.72it/s, loss=7.13]"
     ]
    },
    {
     "name": "stdout",
     "output_type": "stream",
     "text": [
      "📌 Epoch 8000 | Loss: 6.5119\n"
     ]
    },
    {
     "name": "stderr",
     "output_type": "stream",
     "text": [
      "Training:  45%|████▌     | 9002/20001 [17:21<23:29,  7.80it/s, loss=7.13]"
     ]
    },
    {
     "name": "stdout",
     "output_type": "stream",
     "text": [
      "📌 Epoch 9000 | Loss: 6.4308\n"
     ]
    },
    {
     "name": "stderr",
     "output_type": "stream",
     "text": [
      "Training:  50%|█████     | 10002/20001 [19:08<17:11,  9.69it/s, loss=6.86]"
     ]
    },
    {
     "name": "stdout",
     "output_type": "stream",
     "text": [
      "📌 Epoch 10000 | Loss: 7.5280\n"
     ]
    },
    {
     "name": "stderr",
     "output_type": "stream",
     "text": [
      "Training:  55%|█████▌    | 11002/20001 [20:56<15:39,  9.58it/s, loss=6.6] "
     ]
    },
    {
     "name": "stdout",
     "output_type": "stream",
     "text": [
      "📌 Epoch 11000 | Loss: 7.0877\n"
     ]
    },
    {
     "name": "stderr",
     "output_type": "stream",
     "text": [
      "Training:  60%|██████    | 12001/20001 [22:39<13:45,  9.69it/s, loss=6.63]"
     ]
    },
    {
     "name": "stdout",
     "output_type": "stream",
     "text": [
      "📌 Epoch 12000 | Loss: 6.6774\n"
     ]
    },
    {
     "name": "stderr",
     "output_type": "stream",
     "text": [
      "Training:  65%|██████▌   | 13001/20001 [24:24<11:50,  9.85it/s, loss=8.09]"
     ]
    },
    {
     "name": "stdout",
     "output_type": "stream",
     "text": [
      "📌 Epoch 13000 | Loss: 6.7197\n"
     ]
    },
    {
     "name": "stderr",
     "output_type": "stream",
     "text": [
      "Training:  70%|███████   | 14002/20001 [26:12<12:31,  7.98it/s, loss=7.39]"
     ]
    },
    {
     "name": "stdout",
     "output_type": "stream",
     "text": [
      "📌 Epoch 14000 | Loss: 6.2598\n"
     ]
    },
    {
     "name": "stderr",
     "output_type": "stream",
     "text": [
      "Training:  75%|███████▌  | 15002/20001 [28:15<10:09,  8.20it/s, loss=6.4] "
     ]
    },
    {
     "name": "stdout",
     "output_type": "stream",
     "text": [
      "📌 Epoch 15000 | Loss: 6.1978\n"
     ]
    },
    {
     "name": "stderr",
     "output_type": "stream",
     "text": [
      "Training:  80%|████████  | 16002/20001 [30:19<08:11,  8.13it/s, loss=6.07]"
     ]
    },
    {
     "name": "stdout",
     "output_type": "stream",
     "text": [
      "📌 Epoch 16000 | Loss: 7.3756\n"
     ]
    },
    {
     "name": "stderr",
     "output_type": "stream",
     "text": [
      "Training:  85%|████████▌ | 17002/20001 [32:22<05:47,  8.64it/s, loss=6.02]"
     ]
    },
    {
     "name": "stdout",
     "output_type": "stream",
     "text": [
      "📌 Epoch 17000 | Loss: 6.1281\n"
     ]
    },
    {
     "name": "stderr",
     "output_type": "stream",
     "text": [
      "Training:  90%|█████████ | 18002/20001 [34:25<04:03,  8.20it/s, loss=8.93]"
     ]
    },
    {
     "name": "stdout",
     "output_type": "stream",
     "text": [
      "📌 Epoch 18000 | Loss: 6.0415\n"
     ]
    },
    {
     "name": "stderr",
     "output_type": "stream",
     "text": [
      "Training:  95%|█████████▌| 19002/20001 [36:26<02:00,  8.30it/s, loss=6.78]"
     ]
    },
    {
     "name": "stdout",
     "output_type": "stream",
     "text": [
      "📌 Epoch 19000 | Loss: 7.6107\n"
     ]
    },
    {
     "name": "stderr",
     "output_type": "stream",
     "text": [
      "Training: 100%|██████████| 20001/20001 [38:27<00:00,  8.67it/s, loss=6.58]"
     ]
    },
    {
     "name": "stdout",
     "output_type": "stream",
     "text": [
      "📌 Epoch 20000 | Loss: 6.5834\n"
     ]
    },
    {
     "name": "stderr",
     "output_type": "stream",
     "text": [
      "\n"
     ]
    }
   ],
   "execution_count": 25
  },
  {
   "metadata": {
    "ExecuteTime": {
     "end_time": "2025-08-01T17:46:51.707506Z",
     "start_time": "2025-08-01T17:46:51.704795Z"
    }
   },
   "cell_type": "code",
   "source": [
    "def predict_time_to_AD(risk_score, H0_func, s=0, threshold=0.5, max_years=10, step=0.1):\n",
    "    for u in np.arange(s + step, s + max_years, step):\n",
    "        surv_prob = np.exp(-(H0_func(u) - H0_func(s)) * np.exp(risk_score))\n",
    "        if surv_prob < threshold:\n",
    "            return round(u - s, 2)\n",
    "    return None\n"
   ],
   "id": "c9ecdd196dfa063c",
   "outputs": [],
   "execution_count": 26
  },
  {
   "metadata": {
    "ExecuteTime": {
     "end_time": "2025-08-01T17:46:51.740829Z",
     "start_time": "2025-08-01T17:46:51.738040Z"
    }
   },
   "cell_type": "code",
   "source": [
    "def estimate_baseline_hazard(times, events, risk_scores):\n",
    "    # Sort by time\n",
    "    order = np.argsort(times)\n",
    "    times = times[order]\n",
    "    events = events[order]\n",
    "    risk_scores = risk_scores[order]\n",
    "\n",
    "    unique_times = np.unique(times[events == 1])\n",
    "    H0 = {}\n",
    "    cum_hazard = 0.0\n",
    "\n",
    "    for t in unique_times:\n",
    "        at_risk = risk_scores[times >= t]\n",
    "        d = np.sum((times == t) & (events == 1))\n",
    "        r = np.sum(np.exp(at_risk))\n",
    "        if r > 0:\n",
    "            cum_hazard += d / r\n",
    "        H0[t] = cum_hazard\n",
    "\n",
    "    return H0\n"
   ],
   "id": "2cc30c20be360d84",
   "outputs": [],
   "execution_count": 27
  },
  {
   "metadata": {
    "ExecuteTime": {
     "end_time": "2025-08-01T17:51:02.649634Z",
     "start_time": "2025-08-01T17:51:02.638547Z"
    }
   },
   "cell_type": "code",
   "source": [
    "model.eval()\n",
    "with torch.no_grad():\n",
    "    # ✅ Move inputs to device\n",
    "    X_struct_test = X_struct_test.to(device)\n",
    "    X_image_test = X_image_test.to(device)\n",
    "    time_test = time_test.to(device)\n",
    "    event_test = event_test.to(device)\n",
    "\n",
    "    # ✅ Prediction\n",
    "    pred = model(X_struct_test, X_image_test).cpu().numpy().reshape(-1)\n",
    "    time_np = time_test.cpu().numpy().reshape(-1)\n",
    "\n",
    "    # Step 1: Estimate baseline hazard\n",
    "    H0_table = estimate_baseline_hazard(time_np, event_test.cpu().numpy(), pred)\n",
    "    H0_func = lambda u: np.interp(u, list(H0_table.keys()), list(H0_table.values()))\n",
    "\n",
    "    # Step 2: Predict time to AD\n",
    "    print(\"\\n📋 Predicted AD conversion time (All Patients, no event filter, ±0.2 yr tolerance)\\n\")\n",
    "\n",
    "    hit_count = 0\n",
    "    total_count = 0\n",
    "\n",
    "    for i, risk_score in enumerate(pred):\n",
    "        t_pred = predict_time_to_AD(risk_score, H0_func, threshold=0.5)\n",
    "        t_true = time_np[i]\n",
    "\n",
    "        if t_pred is not None:\n",
    "            error = abs(t_pred - t_true)\n",
    "            is_hit = (error <= 0.2)\n",
    "            status = \"✅ HIT\" if is_hit else \"❌ MISS\"\n",
    "            if is_hit:\n",
    "                hit_count += 1\n",
    "            print(f\"  - Patient {i:2d} | pred: {t_pred:5.2f} yrs | true: {t_true:5.2f} yrs | error: {error:.2f} → {status}\")\n",
    "        else:\n",
    "            print(f\"  - Patient {i:2d} | pred:   None      | true: {t_true:5.2f} yrs → ❌ UNPREDICTED\")\n",
    "\n",
    "        total_count += 1\n",
    "\n",
    "    print(f\"\\n🎯 Overall Prediction Accuracy (±0.2 yr): {hit_count} / {total_count} = {hit_count/total_count:.2%}\")\n"
   ],
   "id": "fbfd8b03cfd595e9",
   "outputs": [
    {
     "name": "stdout",
     "output_type": "stream",
     "text": [
      "\n",
      "📋 Predicted AD conversion time (All Patients, no event filter, ±0.2 yr tolerance)\n",
      "\n",
      "  - Patient  0 | pred:  3.10 yrs | true:  3.30 yrs | error: 0.20 → ❌ MISS\n",
      "  - Patient  1 | pred:  3.10 yrs | true:  3.00 yrs | error: 0.10 → ✅ HIT\n",
      "  - Patient  2 | pred:  2.00 yrs | true:  3.00 yrs | error: 1.00 → ❌ MISS\n",
      "  - Patient  3 | pred:  3.10 yrs | true:  3.01 yrs | error: 0.09 → ✅ HIT\n",
      "  - Patient  4 | pred:  3.10 yrs | true:  2.00 yrs | error: 1.10 → ❌ MISS\n",
      "  - Patient  5 | pred:  3.10 yrs | true:  3.01 yrs | error: 0.09 → ✅ HIT\n",
      "  - Patient  6 | pred:  2.10 yrs | true:  2.99 yrs | error: 0.89 → ❌ MISS\n",
      "  - Patient  7 | pred:  3.10 yrs | true:  3.01 yrs | error: 0.09 → ✅ HIT\n",
      "  - Patient  8 | pred:  1.70 yrs | true:  0.50 yrs | error: 1.20 → ❌ MISS\n",
      "  - Patient  9 | pred:  3.20 yrs | true:  1.99 yrs | error: 1.21 → ❌ MISS\n",
      "  - Patient 10 | pred:  3.00 yrs | true:  2.98 yrs | error: 0.02 → ✅ HIT\n",
      "  - Patient 11 | pred:  2.00 yrs | true:  1.94 yrs | error: 0.06 → ✅ HIT\n",
      "  - Patient 12 | pred:  3.10 yrs | true:  3.08 yrs | error: 0.02 → ✅ HIT\n",
      "  - Patient 13 | pred:  1.90 yrs | true:  3.04 yrs | error: 1.14 → ❌ MISS\n",
      "  - Patient 14 | pred:  3.10 yrs | true:  1.00 yrs | error: 2.10 → ❌ MISS\n",
      "  - Patient 15 | pred:  2.10 yrs | true:  0.50 yrs | error: 1.60 → ❌ MISS\n",
      "  - Patient 16 | pred:  3.10 yrs | true:  0.50 yrs | error: 2.60 → ❌ MISS\n",
      "  - Patient 17 | pred:  3.20 yrs | true:  2.97 yrs | error: 0.23 → ❌ MISS\n",
      "  - Patient 18 | pred:  3.20 yrs | true:  3.06 yrs | error: 0.14 → ✅ HIT\n",
      "  - Patient 19 | pred:  3.10 yrs | true:  3.21 yrs | error: 0.11 → ✅ HIT\n",
      "  - Patient 20 | pred:  2.00 yrs | true:  1.00 yrs | error: 1.00 → ❌ MISS\n",
      "  - Patient 21 | pred:  2.10 yrs | true:  1.11 yrs | error: 0.99 → ❌ MISS\n",
      "  - Patient 22 | pred:  3.10 yrs | true:  1.53 yrs | error: 1.57 → ❌ MISS\n",
      "  - Patient 23 | pred:  3.10 yrs | true:  2.04 yrs | error: 1.06 → ❌ MISS\n",
      "  - Patient 24 | pred:  2.00 yrs | true:  2.97 yrs | error: 0.97 → ❌ MISS\n",
      "  - Patient 25 | pred:  1.50 yrs | true:  1.49 yrs | error: 0.01 → ✅ HIT\n",
      "  - Patient 26 | pred:  3.10 yrs | true:  2.97 yrs | error: 0.13 → ✅ HIT\n",
      "  - Patient 27 | pred:  3.10 yrs | true:  2.98 yrs | error: 0.12 → ✅ HIT\n",
      "  - Patient 28 | pred:  3.10 yrs | true:  3.01 yrs | error: 0.09 → ✅ HIT\n",
      "  - Patient 29 | pred:  3.20 yrs | true:  3.01 yrs | error: 0.19 → ✅ HIT\n",
      "  - Patient 30 | pred:  3.10 yrs | true:  1.99 yrs | error: 1.11 → ❌ MISS\n",
      "\n",
      "🎯 Overall Prediction Accuracy (±0.2 yr): 14 / 31 = 45.16%\n"
     ]
    }
   ],
   "execution_count": 31
  },
  {
   "metadata": {
    "ExecuteTime": {
     "end_time": "2025-08-01T17:46:51.788962Z",
     "start_time": "2025-08-01T17:46:51.786077Z"
    }
   },
   "cell_type": "code",
   "source": [
    "import matplotlib.pyplot as plt\n",
    "import numpy as np\n",
    "\n",
    "def plot_survival_curve(risk_score, H0_func, max_t=5.0, step=0.1):\n",
    "    ts = np.arange(0, max_t + step, step)\n",
    "    surv_probs = [\n",
    "        np.exp(- (H0_func(t) - H0_func(0)) * np.exp(risk_score))\n",
    "        for t in ts\n",
    "    ]\n",
    "\n",
    "    plt.figure(figsize=(7, 5))\n",
    "    plt.plot(ts, surv_probs, label=\"π(u|0)\")\n",
    "    plt.axhline(0.5, color='red', linestyle='--', label=\"Threshold 0.5\")\n",
    "    plt.xlabel(\"Years Since MCI (u - s)\")\n",
    "    plt.ylabel(\"Survival Probability π(u|s)\")\n",
    "    plt.title(\"Survival Curve for One Patient\")\n",
    "    plt.legend()\n",
    "    plt.grid(True)\n",
    "    plt.show()\n"
   ],
   "id": "4160dea28af3d617",
   "outputs": [],
   "execution_count": 29
  },
  {
   "metadata": {
    "ExecuteTime": {
     "end_time": "2025-08-01T17:46:51.887914Z",
     "start_time": "2025-08-01T17:46:51.793413Z"
    }
   },
   "cell_type": "code",
   "source": [
    "i = 3 # index of the patient\n",
    "t_pred = predict_time_to_AD(pred[i], H0_func)\n",
    "t_true = time_np[i]\n",
    "event = event_np[i]\n",
    "\n",
    "print(f\"📍 Patient {i} | pred Δt: {t_pred} | true Δt: {t_true:.2f} | event: {event}\")\n",
    "\n",
    "plot_survival_curve(pred[i], H0_func)\n"
   ],
   "id": "86c888a1390a5398",
   "outputs": [
    {
     "name": "stdout",
     "output_type": "stream",
     "text": [
      "📍 Patient 3 | pred Δt: 3.1 | true Δt: 3.01 | event: 0.0\n"
     ]
    },
    {
     "data": {
      "text/plain": [
       "<Figure size 700x500 with 1 Axes>"
      ],
      "image/png": "[encoded data removed]"
     },
     "metadata": {},
     "output_type": "display_data"
    }
   ],
   "execution_count": 30
  }
 ],
 "metadata": {
  "kernelspec": {
   "display_name": "Python 3",
   "language": "python",
   "name": "python3"
  },
  "language_info": {
   "codemirror_mode": {
    "name": "ipython",
    "version": 2
   },
   "file_extension": ".py",
   "mimetype": "text/x-python",
   "name": "python",
   "nbconvert_exporter": "python",
   "pygments_lexer": "ipython2",
   "version": "2.7.6"
  }
 },
 "nbformat": 4,
 "nbformat_minor": 5
}
