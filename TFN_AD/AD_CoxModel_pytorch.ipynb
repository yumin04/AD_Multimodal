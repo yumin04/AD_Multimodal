{
 "cells": [
  {
   "cell_type": "code",
   "id": "initial_id",
   "metadata": {
    "collapsed": true,
    "ExecuteTime": {
     "end_time": "2025-08-04T08:01:07.603928Z",
     "start_time": "2025-08-04T08:01:07.600196Z"
    }
   },
   "source": [
    "import torch\n",
    "import torch.nn as nn\n",
    "import torch.optim as optim\n",
    "import pandas as pd\n",
    "import numpy as np\n",
    "import matplotlib.pyplot as plt\n",
    "import random\n",
    "\n",
    "def set_seed(seed=42):\n",
    "    torch.manual_seed(seed)\n",
    "    np.random.seed(seed)\n",
    "    random.seed(seed)\n",
    "\n",
    "set_seed()\n",
    "device = torch.device(\"cuda\" if torch.cuda.is_available() else \"cpu\")"
   ],
   "outputs": [],
   "execution_count": 78
  },
  {
   "metadata": {
    "ExecuteTime": {
     "end_time": "2025-08-04T08:01:07.612094Z",
     "start_time": "2025-08-04T08:01:07.609561Z"
    }
   },
   "cell_type": "code",
   "source": "device",
   "id": "73ac51d090cce59",
   "outputs": [
    {
     "data": {
      "text/plain": [
       "device(type='cuda')"
      ]
     },
     "execution_count": 79,
     "metadata": {},
     "output_type": "execute_result"
    }
   ],
   "execution_count": 79
  },
  {
   "metadata": {
    "ExecuteTime": {
     "end_time": "2025-08-04T08:01:07.635472Z",
     "start_time": "2025-08-04T08:01:07.622430Z"
    }
   },
   "cell_type": "code",
   "source": [
    "manifest = pd.read_csv(\"./AD_Patient_Manifest.csv\")\n",
    "manifest"
   ],
   "id": "e7e11923fe94d63a",
   "outputs": [
    {
     "data": {
      "text/plain": [
       "           PTID                         path\n",
       "0    002_S_0295  patients_csv\\002_S_0295.pkl\n",
       "1    002_S_0413  patients_csv\\002_S_0413.pkl\n",
       "2    002_S_0619  patients_csv\\002_S_0619.pkl\n",
       "3    002_S_0685  patients_csv\\002_S_0685.pkl\n",
       "4    002_S_0729  patients_csv\\002_S_0729.pkl\n",
       "..          ...                          ...\n",
       "377  137_S_0994  patients_csv\\137_S_0994.pkl\n",
       "378  137_S_1041  patients_csv\\137_S_1041.pkl\n",
       "379  137_S_1414  patients_csv\\137_S_1414.pkl\n",
       "380  941_S_1194  patients_csv\\941_S_1194.pkl\n",
       "381  941_S_1202  patients_csv\\941_S_1202.pkl\n",
       "\n",
       "[382 rows x 2 columns]"
      ],
      "text/html": [
       "<div>\n",
       "<style scoped>\n",
       "    .dataframe tbody tr th:only-of-type {\n",
       "        vertical-align: middle;\n",
       "    }\n",
       "\n",
       "    .dataframe tbody tr th {\n",
       "        vertical-align: top;\n",
       "    }\n",
       "\n",
       "    .dataframe thead th {\n",
       "        text-align: right;\n",
       "    }\n",
       "</style>\n",
       "<table border=\"1\" class=\"dataframe\">\n",
       "  <thead>\n",
       "    <tr style=\"text-align: right;\">\n",
       "      <th></th>\n",
       "      <th>PTID</th>\n",
       "      <th>path</th>\n",
       "    </tr>\n",
       "  </thead>\n",
       "  <tbody>\n",
       "    <tr>\n",
       "      <th>0</th>\n",
       "      <td>002_S_0295</td>\n",
       "      <td>patients_csv\\002_S_0295.pkl</td>\n",
       "    </tr>\n",
       "    <tr>\n",
       "      <th>1</th>\n",
       "      <td>002_S_0413</td>\n",
       "      <td>patients_csv\\002_S_0413.pkl</td>\n",
       "    </tr>\n",
       "    <tr>\n",
       "      <th>2</th>\n",
       "      <td>002_S_0619</td>\n",
       "      <td>patients_csv\\002_S_0619.pkl</td>\n",
       "    </tr>\n",
       "    <tr>\n",
       "      <th>3</th>\n",
       "      <td>002_S_0685</td>\n",
       "      <td>patients_csv\\002_S_0685.pkl</td>\n",
       "    </tr>\n",
       "    <tr>\n",
       "      <th>4</th>\n",
       "      <td>002_S_0729</td>\n",
       "      <td>patients_csv\\002_S_0729.pkl</td>\n",
       "    </tr>\n",
       "    <tr>\n",
       "      <th>...</th>\n",
       "      <td>...</td>\n",
       "      <td>...</td>\n",
       "    </tr>\n",
       "    <tr>\n",
       "      <th>377</th>\n",
       "      <td>137_S_0994</td>\n",
       "      <td>patients_csv\\137_S_0994.pkl</td>\n",
       "    </tr>\n",
       "    <tr>\n",
       "      <th>378</th>\n",
       "      <td>137_S_1041</td>\n",
       "      <td>patients_csv\\137_S_1041.pkl</td>\n",
       "    </tr>\n",
       "    <tr>\n",
       "      <th>379</th>\n",
       "      <td>137_S_1414</td>\n",
       "      <td>patients_csv\\137_S_1414.pkl</td>\n",
       "    </tr>\n",
       "    <tr>\n",
       "      <th>380</th>\n",
       "      <td>941_S_1194</td>\n",
       "      <td>patients_csv\\941_S_1194.pkl</td>\n",
       "    </tr>\n",
       "    <tr>\n",
       "      <th>381</th>\n",
       "      <td>941_S_1202</td>\n",
       "      <td>patients_csv\\941_S_1202.pkl</td>\n",
       "    </tr>\n",
       "  </tbody>\n",
       "</table>\n",
       "<p>382 rows × 2 columns</p>\n",
       "</div>"
      ]
     },
     "execution_count": 80,
     "metadata": {},
     "output_type": "execute_result"
    }
   ],
   "execution_count": 80
  },
  {
   "metadata": {
    "ExecuteTime": {
     "end_time": "2025-08-04T08:01:07.655845Z",
     "start_time": "2025-08-04T08:01:07.640036Z"
    }
   },
   "cell_type": "code",
   "source": [
    "patient_df = pd.read_pickle(\"patients_csv/002_S_0295.pkl\")\n",
    "df = pd.DataFrame(patient_df)\n",
    "df"
   ],
   "id": "eca053c4c158b29d",
   "outputs": [
    {
     "data": {
      "text/plain": [
       "   RID        PTID  DX  MMSE   AGE PTGENDER  PTEDUCAT         PTETHCAT  \\\n",
       "0  295  002_S_0295  CN  28.0  84.8     Male        18  Not Hisp/Latino   \n",
       "1  295  002_S_0295  CN  28.0  84.8     Male        18  Not Hisp/Latino   \n",
       "2  295  002_S_0295  CN  30.0  84.8     Male        18  Not Hisp/Latino   \n",
       "3  295  002_S_0295  CN  29.0  84.8     Male        18  Not Hisp/Latino   \n",
       "4  295  002_S_0295  CN  28.0  84.8     Male        18  Not Hisp/Latino   \n",
       "\n",
       "  PTRACCAT  PTMARRY  ...  ADAS13  ADASQ4  Years_bl    EXAMDATE  \\\n",
       "0    White  Married  ...    4.00     1.0   0.00000  2006-05-09   \n",
       "1    White  Married  ...    6.33     1.0   0.48460  2006-11-02   \n",
       "2    White  Married  ...    5.67     1.0   1.04312  2007-05-25   \n",
       "3    White  Married  ...    5.67     2.0   2.23956  2008-08-04   \n",
       "4    White  Married  ...    6.67     3.0   2.99521  2009-05-07   \n",
       "\n",
       "                                          image_path DX_encoded  \\\n",
       "0  /home/mason/ADNI_Dataset/ADNI_IMG_32.5%_x/I118...          0   \n",
       "1  /home/mason/ADNI_Dataset/ADNI_IMG_32.5%_x/I118...          0   \n",
       "2  /home/mason/ADNI_Dataset/ADNI_IMG_32.5%_x/I640...          0   \n",
       "3  /home/mason/ADNI_Dataset/ADNI_IMG_32.5%_x/I123...          0   \n",
       "4  /home/mason/ADNI_Dataset/ADNI_IMG_32.5%_x/I150...          0   \n",
       "\n",
       "   PTGENDER_encoded  PTETHCAT_encoded  PTRACCAT_encoded  PTMARRY_encoded  \n",
       "0                 1                 1                 2                1  \n",
       "1                 1                 1                 2                1  \n",
       "2                 1                 1                 2                1  \n",
       "3                 1                 1                 2                1  \n",
       "4                 1                 1                 2                1  \n",
       "\n",
       "[5 rows x 21 columns]"
      ],
      "text/html": [
       "<div>\n",
       "<style scoped>\n",
       "    .dataframe tbody tr th:only-of-type {\n",
       "        vertical-align: middle;\n",
       "    }\n",
       "\n",
       "    .dataframe tbody tr th {\n",
       "        vertical-align: top;\n",
       "    }\n",
       "\n",
       "    .dataframe thead th {\n",
       "        text-align: right;\n",
       "    }\n",
       "</style>\n",
       "<table border=\"1\" class=\"dataframe\">\n",
       "  <thead>\n",
       "    <tr style=\"text-align: right;\">\n",
       "      <th></th>\n",
       "      <th>RID</th>\n",
       "      <th>PTID</th>\n",
       "      <th>DX</th>\n",
       "      <th>MMSE</th>\n",
       "      <th>AGE</th>\n",
       "      <th>PTGENDER</th>\n",
       "      <th>PTEDUCAT</th>\n",
       "      <th>PTETHCAT</th>\n",
       "      <th>PTRACCAT</th>\n",
       "      <th>PTMARRY</th>\n",
       "      <th>...</th>\n",
       "      <th>ADAS13</th>\n",
       "      <th>ADASQ4</th>\n",
       "      <th>Years_bl</th>\n",
       "      <th>EXAMDATE</th>\n",
       "      <th>image_path</th>\n",
       "      <th>DX_encoded</th>\n",
       "      <th>PTGENDER_encoded</th>\n",
       "      <th>PTETHCAT_encoded</th>\n",
       "      <th>PTRACCAT_encoded</th>\n",
       "      <th>PTMARRY_encoded</th>\n",
       "    </tr>\n",
       "  </thead>\n",
       "  <tbody>\n",
       "    <tr>\n",
       "      <th>0</th>\n",
       "      <td>295</td>\n",
       "      <td>002_S_0295</td>\n",
       "      <td>CN</td>\n",
       "      <td>28.0</td>\n",
       "      <td>84.8</td>\n",
       "      <td>Male</td>\n",
       "      <td>18</td>\n",
       "      <td>Not Hisp/Latino</td>\n",
       "      <td>White</td>\n",
       "      <td>Married</td>\n",
       "      <td>...</td>\n",
       "      <td>4.00</td>\n",
       "      <td>1.0</td>\n",
       "      <td>0.00000</td>\n",
       "      <td>2006-05-09</td>\n",
       "      <td>/home/mason/ADNI_Dataset/ADNI_IMG_32.5%_x/I118...</td>\n",
       "      <td>0</td>\n",
       "      <td>1</td>\n",
       "      <td>1</td>\n",
       "      <td>2</td>\n",
       "      <td>1</td>\n",
       "    </tr>\n",
       "    <tr>\n",
       "      <th>1</th>\n",
       "      <td>295</td>\n",
       "      <td>002_S_0295</td>\n",
       "      <td>CN</td>\n",
       "      <td>28.0</td>\n",
       "      <td>84.8</td>\n",
       "      <td>Male</td>\n",
       "      <td>18</td>\n",
       "      <td>Not Hisp/Latino</td>\n",
       "      <td>White</td>\n",
       "      <td>Married</td>\n",
       "      <td>...</td>\n",
       "      <td>6.33</td>\n",
       "      <td>1.0</td>\n",
       "      <td>0.48460</td>\n",
       "      <td>2006-11-02</td>\n",
       "      <td>/home/mason/ADNI_Dataset/ADNI_IMG_32.5%_x/I118...</td>\n",
       "      <td>0</td>\n",
       "      <td>1</td>\n",
       "      <td>1</td>\n",
       "      <td>2</td>\n",
       "      <td>1</td>\n",
       "    </tr>\n",
       "    <tr>\n",
       "      <th>2</th>\n",
       "      <td>295</td>\n",
       "      <td>002_S_0295</td>\n",
       "      <td>CN</td>\n",
       "      <td>30.0</td>\n",
       "      <td>84.8</td>\n",
       "      <td>Male</td>\n",
       "      <td>18</td>\n",
       "      <td>Not Hisp/Latino</td>\n",
       "      <td>White</td>\n",
       "      <td>Married</td>\n",
       "      <td>...</td>\n",
       "      <td>5.67</td>\n",
       "      <td>1.0</td>\n",
       "      <td>1.04312</td>\n",
       "      <td>2007-05-25</td>\n",
       "      <td>/home/mason/ADNI_Dataset/ADNI_IMG_32.5%_x/I640...</td>\n",
       "      <td>0</td>\n",
       "      <td>1</td>\n",
       "      <td>1</td>\n",
       "      <td>2</td>\n",
       "      <td>1</td>\n",
       "    </tr>\n",
       "    <tr>\n",
       "      <th>3</th>\n",
       "      <td>295</td>\n",
       "      <td>002_S_0295</td>\n",
       "      <td>CN</td>\n",
       "      <td>29.0</td>\n",
       "      <td>84.8</td>\n",
       "      <td>Male</td>\n",
       "      <td>18</td>\n",
       "      <td>Not Hisp/Latino</td>\n",
       "      <td>White</td>\n",
       "      <td>Married</td>\n",
       "      <td>...</td>\n",
       "      <td>5.67</td>\n",
       "      <td>2.0</td>\n",
       "      <td>2.23956</td>\n",
       "      <td>2008-08-04</td>\n",
       "      <td>/home/mason/ADNI_Dataset/ADNI_IMG_32.5%_x/I123...</td>\n",
       "      <td>0</td>\n",
       "      <td>1</td>\n",
       "      <td>1</td>\n",
       "      <td>2</td>\n",
       "      <td>1</td>\n",
       "    </tr>\n",
       "    <tr>\n",
       "      <th>4</th>\n",
       "      <td>295</td>\n",
       "      <td>002_S_0295</td>\n",
       "      <td>CN</td>\n",
       "      <td>28.0</td>\n",
       "      <td>84.8</td>\n",
       "      <td>Male</td>\n",
       "      <td>18</td>\n",
       "      <td>Not Hisp/Latino</td>\n",
       "      <td>White</td>\n",
       "      <td>Married</td>\n",
       "      <td>...</td>\n",
       "      <td>6.67</td>\n",
       "      <td>3.0</td>\n",
       "      <td>2.99521</td>\n",
       "      <td>2009-05-07</td>\n",
       "      <td>/home/mason/ADNI_Dataset/ADNI_IMG_32.5%_x/I150...</td>\n",
       "      <td>0</td>\n",
       "      <td>1</td>\n",
       "      <td>1</td>\n",
       "      <td>2</td>\n",
       "      <td>1</td>\n",
       "    </tr>\n",
       "  </tbody>\n",
       "</table>\n",
       "<p>5 rows × 21 columns</p>\n",
       "</div>"
      ]
     },
     "execution_count": 81,
     "metadata": {},
     "output_type": "execute_result"
    }
   ],
   "execution_count": 81
  },
  {
   "metadata": {
    "ExecuteTime": {
     "end_time": "2025-08-04T08:01:07.661851Z",
     "start_time": "2025-08-04T08:01:07.659366Z"
    }
   },
   "cell_type": "code",
   "source": [
    "demographic_columns = [\n",
    "    \"AGE\", \"PTEDUCAT\",\n",
    "    \"PTGENDER_encoded\", \"PTETHCAT_encoded\",\n",
    "    \"PTRACCAT_encoded\", \"PTMARRY_encoded\",\n",
    "    \"MMSE\", \"ADAS11\", \"ADAS13\", \"ADASQ4\",\n",
    "    \"Years_bl\"\n",
    "]\n",
    "\n",
    "label_mapping = {\"CN\": 0, \"MCI\": 1, \"AD\": 2}\n",
    "max_seq_length = 5"
   ],
   "id": "d7fed21bbcc19c9c",
   "outputs": [],
   "execution_count": 82
  },
  {
   "metadata": {
    "ExecuteTime": {
     "end_time": "2025-08-04T08:01:07.684366Z",
     "start_time": "2025-08-04T08:01:07.681071Z"
    }
   },
   "cell_type": "code",
   "source": [
    "# import os\n",
    "# from PIL import Image\n",
    "# from torchvision import transforms\n",
    "#\n",
    "# # ✅ Image preprocessing transform (torchvision standard)\n",
    "# transform = transforms.Compose([\n",
    "#     transforms.Resize((224, 224)),\n",
    "#     transforms.ToTensor(),\n",
    "#     transforms.Normalize(mean=[0.485, 0.456, 0.406],  # VGG16 공식\n",
    "#                          std=[0.229, 0.224, 0.225])\n",
    "# ])\n",
    "#\n",
    "#\n",
    "# cox_time = []\n",
    "# cox_event = []\n",
    "# cox_features = []\n",
    "# cox_images = []\n",
    "#\n",
    "# for _, row in manifest.iterrows():\n",
    "#     try:\n",
    "#         patient_df = pd.read_pickle(row[\"path\"])\n",
    "#\n",
    "#         dx_sequence = patient_df[\"DX\"].values.tolist()\n",
    "#         if \"MCI\" not in dx_sequence:\n",
    "#             continue\n",
    "#         if \"AD\" not in dx_sequence and \"Dementia\" not in dx_sequence and dx_sequence.count(\"MCI\") == 1:\n",
    "#             continue\n",
    "#\n",
    "#         mci_idx = dx_sequence.index(\"MCI\")\n",
    "#\n",
    "#         ad_idx = -1\n",
    "#         for i in range(mci_idx + 1, len(dx_sequence)):\n",
    "#             if dx_sequence[i] in [\"AD\", \"Dementia\"]:\n",
    "#                 ad_idx = i\n",
    "#                 break\n",
    "#\n",
    "#         if ad_idx != -1:\n",
    "#             time = patient_df[\"Years_bl\"].iloc[ad_idx] - patient_df[\"Years_bl\"].iloc[mci_idx]\n",
    "#             event = 1\n",
    "#         else:\n",
    "#             time = patient_df[\"Years_bl\"].iloc[-1] - patient_df[\"Years_bl\"].iloc[mci_idx]\n",
    "#             event = 0\n",
    "#\n",
    "#         # Structured features\n",
    "#         demo = patient_df[demographic_columns].iloc[mci_idx].values.astype(np.float32)\n",
    "#\n",
    "#         # Image path preprocessing\n",
    "#         raw_path = patient_df[\"image_path\"].iloc[mci_idx]\n",
    "#         image_path = raw_path.replace(\"/home/mason/ADNI_Dataset/\", \"../ADNI_Dataset/\")\n",
    "#\n",
    "#         if not os.path.exists(image_path):\n",
    "#             print(f\"❌ Image not found: {image_path}\")\n",
    "#             continue\n",
    "#\n",
    "#         # Load and preprocess image\n",
    "#         img = Image.open(image_path).convert(\"RGB\")\n",
    "#         img_tensor = transform(img).to(device)  # ✅ Send directly to GPU\n",
    "#\n",
    "#         # Append to dataset\n",
    "#         cox_time.append(time)\n",
    "#         cox_event.append(event)\n",
    "#         cox_features.append(torch.tensor(demo, dtype=torch.float32).to(device))\n",
    "#         cox_images.append(img_tensor)\n",
    "#\n",
    "#     except Exception as e:\n",
    "#         print(f\"❌ Failed to process sample at index {mci_idx} in {row['path']}: {e}\")\n",
    "#         continue\n",
    "#\n",
    "# print(f\"\\n✅ Preprocessing complete: {len(cox_features)} samples loaded.\")"
   ],
   "id": "e5787ac8e2c78ad3",
   "outputs": [],
   "execution_count": 83
  },
  {
   "metadata": {
    "ExecuteTime": {
     "end_time": "2025-08-04T08:01:09.745582Z",
     "start_time": "2025-08-04T08:01:07.688095Z"
    }
   },
   "cell_type": "code",
   "source": [
    "import os\n",
    "from PIL import Image\n",
    "from torchvision import transforms\n",
    "transform = transforms.Compose([\n",
    "    transforms.Resize((224, 224)),\n",
    "    transforms.ToTensor(),\n",
    "    transforms.Normalize(mean=[0.485, 0.456, 0.406],\n",
    "                         std=[0.229, 0.224, 0.225])\n",
    "])\n",
    "\n",
    "MAX_SAMPLES_PER_PATIENT = 5\n",
    "\n",
    "cox_time = []\n",
    "cox_event = []\n",
    "cox_features = []\n",
    "cox_images = []\n",
    "\n",
    "for _, row in manifest.iterrows():\n",
    "    try:\n",
    "        patient_df = pd.read_pickle(row[\"path\"])\n",
    "\n",
    "        dx_sequence = patient_df[\"DX\"].values.tolist()\n",
    "        if \"MCI\" not in dx_sequence:\n",
    "            continue\n",
    "\n",
    "        # never turned to MCI or if only have one MCI then delete\n",
    "        if \"AD\" not in dx_sequence and \"Dementia\" not in dx_sequence and dx_sequence.count(\"MCI\") == 1:\n",
    "            continue\n",
    "\n",
    "        mci_idx = dx_sequence.index(\"MCI\")\n",
    "\n",
    "        ad_idx = -1\n",
    "        for i in range(mci_idx + 1, len(dx_sequence)):\n",
    "            if dx_sequence[i] in [\"AD\", \"Dementia\"]:\n",
    "                ad_idx = i\n",
    "                break\n",
    "\n",
    "        # 전환 여부 및 cutoff time\n",
    "        if ad_idx != -1:\n",
    "            final_idx = ad_idx\n",
    "            event = 1\n",
    "        else:\n",
    "            final_idx = len(dx_sequence) - 1\n",
    "            event = 0\n",
    "\n",
    "        # ✅ 최대 5개까지 샘플 생성 (MCI 이후)\n",
    "        for offset in range(MAX_SAMPLES_PER_PATIENT):\n",
    "            idx = mci_idx + offset\n",
    "            if idx >= final_idx:\n",
    "                break  # 전환 이후의 샘플은 사용하지 않음\n",
    "\n",
    "            # 계산\n",
    "            time = patient_df[\"Years_bl\"].iloc[final_idx] - patient_df[\"Years_bl\"].iloc[idx]\n",
    "            demo = patient_df[demographic_columns].iloc[idx].values.astype(np.float32)\n",
    "\n",
    "            raw_path = patient_df[\"image_path\"].iloc[idx]\n",
    "            image_path = raw_path.replace(\"/home/mason/ADNI_Dataset/\", \"../ADNI_Dataset/\")\n",
    "            if not os.path.exists(image_path):\n",
    "                print(f\"❌ Image not found: {image_path}\")\n",
    "                continue\n",
    "\n",
    "            img = Image.open(image_path).convert(\"RGB\")\n",
    "            img_tensor = transform(img).to(device)\n",
    "\n",
    "            # 저장\n",
    "            cox_time.append(time)\n",
    "            cox_event.append(event)\n",
    "            cox_features.append(torch.tensor(demo, dtype=torch.float32).to(device))\n",
    "            cox_images.append(img_tensor)\n",
    "\n",
    "    except Exception as e:\n",
    "        print(f\"❌ Failed to process sample in {row['path']}: {e}\")\n",
    "        continue\n",
    "\n",
    "print(f\"\\n✅ Preprocessing complete: {len(cox_features)} samples loaded.\")\n"
   ],
   "id": "2f50005442a59cd0",
   "outputs": [
    {
     "name": "stdout",
     "output_type": "stream",
     "text": [
      "\n",
      "✅ Preprocessing complete: 610 samples loaded.\n"
     ]
    }
   ],
   "execution_count": 84
  },
  {
   "metadata": {},
   "cell_type": "markdown",
   "source": "#### Train Test Split",
   "id": "dbb0fa17f5252e26"
  },
  {
   "metadata": {
    "ExecuteTime": {
     "end_time": "2025-08-04T08:01:09.755584Z",
     "start_time": "2025-08-04T08:01:09.749630Z"
    }
   },
   "cell_type": "code",
   "source": [
    "from sklearn.model_selection import train_test_split\n",
    "\n",
    "# Step 1: Stack tensors (already on GPU)\n",
    "X_struct = torch.stack(cox_features)  # already on device\n",
    "X_image = torch.stack(cox_images)     # already on device\n",
    "time_tensor = torch.tensor(cox_time, dtype=torch.float32, device=device)\n",
    "event_tensor = torch.tensor(cox_event, dtype=torch.float32, device=device)\n",
    "\n",
    "# Step 2: First split indices\n",
    "indices = np.arange(X_struct.shape[0])\n",
    "train_idx, test_idx = train_test_split(indices, test_size=0.2, random_state=42)\n",
    "\n",
    "# Step 3: Split tensors using indices (keep on GPU)\n",
    "X_struct_train = X_struct[train_idx]\n",
    "X_struct_test = X_struct[test_idx]\n",
    "\n",
    "X_image_train = X_image[train_idx]\n",
    "X_image_test = X_image[test_idx]\n",
    "\n",
    "time_train = time_tensor[train_idx]\n",
    "time_test = time_tensor[test_idx]\n",
    "\n",
    "event_train = event_tensor[train_idx]\n",
    "event_test = event_tensor[test_idx]\n"
   ],
   "id": "6d7ffb5d90139fa3",
   "outputs": [],
   "execution_count": 85
  },
  {
   "metadata": {
    "ExecuteTime": {
     "end_time": "2025-08-04T08:01:09.765629Z",
     "start_time": "2025-08-04T08:01:09.761546Z"
    }
   },
   "cell_type": "code",
   "source": [
    "import torch\n",
    "import torch.nn as nn\n",
    "import torchvision.models as models\n",
    "\n",
    "class CoxModel(nn.Module):\n",
    "    def __init__(self, input_dim):\n",
    "        super(CoxModel, self).__init__()\n",
    "\n",
    "        # ✅ Pretrained VGG16\n",
    "        vgg = models.vgg16(pretrained=True)\n",
    "        self.vgg_features = vgg.features  # only conv layers\n",
    "\n",
    "        # Freeze VGG weights\n",
    "        for name, param in self.vgg_features.named_parameters():\n",
    "            if \"24\" in name or \"26\" in name or \"28\" in name:  # 마지막 conv block\n",
    "                param.requires_grad = True\n",
    "\n",
    "\n",
    "        # ✅ Visual encoder with pooling + bottleneck\n",
    "        self.visual_net = nn.Sequential(\n",
    "            nn.AdaptiveAvgPool2d((1, 1)),  # [B, 512, 1, 1]\n",
    "            nn.Flatten(),                  # [B, 512]\n",
    "            nn.Linear(512, 256),\n",
    "            nn.ReLU(),\n",
    "            nn.Dropout(0.2),\n",
    "        )\n",
    "\n",
    "        # ✅ Demographics encoder (모듈화)\n",
    "        self.demographics_net = nn.Sequential(\n",
    "            nn.Linear(input_dim, 32),\n",
    "            nn.ReLU(),\n",
    "            nn.Dropout(0.1),\n",
    "            nn.Linear(32, 16),\n",
    "            nn.ReLU(),\n",
    "            nn.Dropout(0.1),\n",
    "        )\n",
    "\n",
    "\n",
    "        # 마지막 layer custom 초기화\n",
    "        self.final_layer = nn.Linear(64, 1)\n",
    "        nn.init.constant_(self.final_layer.bias, 0.5)\n",
    "\n",
    "        # ✅ Combined MLP (Feature Vector Bottleneck 포함)\n",
    "        self.combined_mlp = nn.Sequential(\n",
    "            nn.Linear(256 + 16, 128),\n",
    "            nn.ReLU(),\n",
    "            nn.Dropout(0.1),\n",
    "            nn.Linear(128, 64),\n",
    "            nn.ReLU(),\n",
    "            nn.Dropout(0.1),\n",
    "            self.final_layer\n",
    "        )\n",
    "\n",
    "\n",
    "    def forward(self, x_struct, x_image):\n",
    "        with torch.no_grad():\n",
    "            x_image = self.vgg_features(x_image)\n",
    "\n",
    "        img_feat = self.visual_net(x_image)        # [B, 256]\n",
    "        struct_feat = self.demographics_net(x_struct)  # [B, 4]\n",
    "        x = torch.cat([struct_feat, img_feat], dim=1)  # [B, 260]\n",
    "        return self.combined_mlp(x).squeeze(1)\n"
   ],
   "id": "3359d7cc6ce80dc9",
   "outputs": [],
   "execution_count": 86
  },
  {
   "metadata": {
    "ExecuteTime": {
     "end_time": "2025-08-04T08:01:09.773968Z",
     "start_time": "2025-08-04T08:01:09.770236Z"
    }
   },
   "cell_type": "code",
   "source": [
    "class Efron_loss_penalty(nn.Module):\n",
    "    def __init__(self, penalty):\n",
    "        super(Efron_loss_penalty, self).__init__()\n",
    "        self.penalty = penalty  # float, not a tensor\n",
    "\n",
    "    def forward(self, times, events, risk):\n",
    "        loss = torch.tensor([0.0], device=risk.device)  # Ensure correct device\n",
    "        exp_risk = torch.exp(risk)\n",
    "        T = torch.unique(times)\n",
    "        tie_count_list = []\n",
    "        cum_exp_risk = []\n",
    "        failure_time = []\n",
    "\n",
    "        for t in range(len(T)):\n",
    "            index = times == T[t]\n",
    "            tie_index = (times == T[t]) & (events == 1)\n",
    "            tie_counts = len(times[tie_index])\n",
    "            temp_loss = torch.tensor([0.0], device=risk.device)\n",
    "            tie_risk = risk[tie_index]\n",
    "            tie_exp_risk = torch.sum(exp_risk[tie_index])\n",
    "            if tie_counts > 0:\n",
    "                temp_loss += self.penalty * torch.sum(torch.abs(risk[index]))\n",
    "\n",
    "            failure_time.append(T[t].detach().cpu().numpy())\n",
    "            tie_count_list.append(tie_counts)\n",
    "            cum_exp_risk.append(torch.sum(exp_risk[index]).detach().cpu().numpy())\n",
    "\n",
    "            for j in range(tie_counts):\n",
    "                temp = tie_risk[j] - torch.log(torch.sum(exp_risk[index]) - j / tie_counts * tie_exp_risk)\n",
    "                temp_loss -= temp\n",
    "\n",
    "            loss += temp_loss\n",
    "\n",
    "        return loss, np.array(tie_count_list), np.array(cum_exp_risk), np.array(failure_time)\n"
   ],
   "id": "e2cdd79646769281",
   "outputs": [],
   "execution_count": 87
  },
  {
   "metadata": {
    "ExecuteTime": {
     "end_time": "2025-08-04T08:01:09.781367Z",
     "start_time": "2025-08-04T08:01:09.777532Z"
    }
   },
   "cell_type": "code",
   "source": [
    "class Efron_loss(nn.Module):\n",
    "    def __init__(self):\n",
    "        super(Efron_loss, self).__init__()\n",
    "\n",
    "    def forward(self, times, events, risk):\n",
    "        loss = torch.tensor([0.0], device=risk.device)  # device 설정 추가\n",
    "        exp_risk = torch.exp(risk)\n",
    "        T = torch.unique(times)\n",
    "        tie_count_list = []\n",
    "        cum_exp_risk = []\n",
    "        failure_time = []\n",
    "\n",
    "        for t in range(len(T)):\n",
    "            index = times == T[t]\n",
    "            tie_index = (times == T[t]) & (events == 1)\n",
    "            tie_counts = len(times[tie_index])\n",
    "            temp_loss = torch.tensor([0.0], device=risk.device)  # device 설정 추가\n",
    "            tie_risk = risk[tie_index]\n",
    "            tie_exp_risk = torch.sum(exp_risk[tie_index])\n",
    "\n",
    "            if tie_counts > 0:\n",
    "                # ✅ GPU → CPU → NumPy\n",
    "                failure_time.append(T[t].detach().cpu().numpy())\n",
    "                tie_count_list.append(tie_counts)\n",
    "                cum_exp_risk.append(torch.sum(exp_risk[index]).detach().cpu().numpy())\n",
    "\n",
    "            for j in range(tie_counts):\n",
    "                denom = torch.sum(exp_risk[index]) - (j / tie_counts) * tie_exp_risk\n",
    "                temp = tie_risk[j] - torch.log(denom)\n",
    "                temp_loss = temp_loss - temp\n",
    "\n",
    "            loss = loss + temp_loss\n",
    "\n",
    "        return loss, np.array(tie_count_list), np.array(cum_exp_risk), failure_time\n"
   ],
   "id": "76a530ce58cf816a",
   "outputs": [],
   "execution_count": 88
  },
  {
   "metadata": {
    "ExecuteTime": {
     "end_time": "2025-08-04T08:01:09.787412Z",
     "start_time": "2025-08-04T08:01:09.785106Z"
    }
   },
   "cell_type": "code",
   "source": [
    "learning_rate = 0.005\n",
    "epochs = 150"
   ],
   "id": "75b5042a718241cc",
   "outputs": [],
   "execution_count": 89
  },
  {
   "metadata": {
    "ExecuteTime": {
     "end_time": "2025-08-04T08:01:09.795792Z",
     "start_time": "2025-08-04T08:01:09.793132Z"
    }
   },
   "cell_type": "code",
   "source": [
    "print(\"X_struct:\", type(X_struct), X_struct.shape)\n",
    "print(\"X_image:\", type(X_image), X_image.shape)\n",
    "print(\"time:\", type(time), time.shape if hasattr(time, \"shape\") else time)\n",
    "print(\"event:\", type(event), event.shape if hasattr(event, \"shape\") else event)\n"
   ],
   "id": "d6d231f3e75e0f9f",
   "outputs": [
    {
     "name": "stdout",
     "output_type": "stream",
     "text": [
      "X_struct: <class 'torch.Tensor'> torch.Size([610, 11])\n",
      "X_image: <class 'torch.Tensor'> torch.Size([610, 3, 224, 224])\n",
      "time: <class 'numpy.float64'> ()\n",
      "event: <class 'int'> 0\n"
     ]
    }
   ],
   "execution_count": 90
  },
  {
   "metadata": {
    "ExecuteTime": {
     "end_time": "2025-08-04T08:20:39.198373Z",
     "start_time": "2025-08-04T08:01:09.817372Z"
    }
   },
   "cell_type": "code",
   "source": [
    "from tqdm import trange\n",
    "from lifelines.utils import concordance_index\n",
    "import numpy as np\n",
    "from sklearn.model_selection import train_test_split\n",
    "\n",
    "# ✅ 1. Stack the preprocessed lists into tensors\n",
    "X_struct = torch.stack(cox_features)\n",
    "X_image = torch.stack(cox_images)\n",
    "time = torch.tensor(cox_time, dtype=torch.float32)\n",
    "event = torch.tensor(cox_event, dtype=torch.float32)\n",
    "\n",
    "# ✅ 2. Train/Val Split (CPU에서 먼저!)\n",
    "(\n",
    "    X_struct_train, X_struct_val,\n",
    "    X_image_train, X_image_val,\n",
    "    time_train, time_val,\n",
    "    event_train, event_val\n",
    ") = train_test_split(\n",
    "    X_struct, X_image, time, event,\n",
    "    test_size=0.2, random_state=42\n",
    ")\n",
    "\n",
    "# ✅ 3. Move to device\n",
    "X_struct_train = X_struct_train.to(device)\n",
    "X_image_train = X_image_train.to(device)\n",
    "X_struct_val = X_struct_val.to(device)\n",
    "X_image_val = X_image_val.to(device)\n",
    "time_train = time_train.to(device)\n",
    "event_train = event_train.to(device)\n",
    "time_val = time_val.to(device)\n",
    "event_val = event_val.to(device)\n",
    "\n",
    "# ✅ 4. Initialize model, optimizer, loss\n",
    "penalty_lambda = 0.01\n",
    "model = CoxModel(input_dim=X_struct.shape[1]).to(device)\n",
    "optimizer = torch.optim.Adam(model.parameters(), lr=learning_rate)\n",
    "efron_loss_fn = Efron_loss_penalty(penalty=penalty_lambda).to(device)\n",
    "\n",
    "# ✅ 5. Convert time/event to NumPy (CPU) for C-Index\n",
    "time_train_np = time_train.detach().cpu().numpy()\n",
    "event_train_np = event_train.detach().cpu().numpy()\n",
    "time_val_np = time_val.detach().cpu().numpy()\n",
    "event_val_np = event_val.detach().cpu().numpy()\n",
    "\n",
    "# ✅ Training Loop (no early stopping)\n",
    "tq = trange(epochs, desc=\"Training\")\n",
    "\n",
    "for epoch in tq:\n",
    "    model.train()\n",
    "    optimizer.zero_grad()\n",
    "\n",
    "    # === Train ===\n",
    "    risk_scores_train = model(X_struct_train, X_image_train)\n",
    "    loss, _, _, _ = efron_loss_fn(times=time_train, events=event_train, risk=risk_scores_train)\n",
    "    loss.backward()\n",
    "    optimizer.step()\n",
    "\n",
    "    # === Eval: train c-index ===\n",
    "    risk_np_train = risk_scores_train.detach().cpu().numpy().reshape(-1)\n",
    "    c_index_train = concordance_index(time_train_np, -risk_np_train, event_train_np)\n",
    "\n",
    "    # === Eval: val c-index ===\n",
    "    model.eval()\n",
    "    with torch.no_grad():\n",
    "        risk_scores_val = model(X_struct_val, X_image_val)\n",
    "        risk_np_val = risk_scores_val.detach().cpu().numpy().reshape(-1)\n",
    "        c_index_val = concordance_index(time_val_np, -risk_np_val, event_val_np)\n",
    "\n",
    "    # === Output ===\n",
    "    tq.set_postfix(loss=loss.item(), c_train=f\"{c_index_train:.4f}\", c_val=f\"{c_index_val:.4f}\")\n",
    "    if epoch % 10 == 0:\n",
    "        print(f\"📌 Epoch {epoch} | Loss: {loss.item():.4f} | Train C-Index: {c_index_train:.4f} | Val C-Index: {c_index_val:.4f}\")\n"
   ],
   "id": "fa4cf4ae4a78b6d",
   "outputs": [
    {
     "name": "stderr",
     "output_type": "stream",
     "text": [
      "C:\\Users\\myh04\\AppData\\Local\\Programs\\Python\\Python313\\Lib\\site-packages\\torchvision\\models\\_utils.py:208: UserWarning: The parameter 'pretrained' is deprecated since 0.13 and may be removed in the future, please use 'weights' instead.\n",
      "  warnings.warn(\n",
      "C:\\Users\\myh04\\AppData\\Local\\Programs\\Python\\Python313\\Lib\\site-packages\\torchvision\\models\\_utils.py:223: UserWarning: Arguments other than a weight enum or `None` for 'weights' are deprecated since 0.13 and may be removed in the future. The current behavior is equivalent to passing `weights=VGG16_Weights.IMAGENET1K_V1`. You can also use `weights=VGG16_Weights.DEFAULT` to get the most up-to-date weights.\n",
      "  warnings.warn(msg)\n",
      "Training:   1%|          | 1/150 [00:07<18:26,  7.43s/it, c_train=0.5551, c_val=0.6271, loss=68.7]"
     ]
    },
    {
     "name": "stdout",
     "output_type": "stream",
     "text": [
      "📌 Epoch 0 | Loss: 68.6820 | Train C-Index: 0.5551 | Val C-Index: 0.6271\n"
     ]
    },
    {
     "name": "stderr",
     "output_type": "stream",
     "text": [
      "Training:   7%|▋         | 11/150 [01:21<17:01,  7.35s/it, c_train=0.6715, c_val=0.5997, loss=55.1]"
     ]
    },
    {
     "name": "stdout",
     "output_type": "stream",
     "text": [
      "📌 Epoch 10 | Loss: 55.1172 | Train C-Index: 0.6715 | Val C-Index: 0.5997\n"
     ]
    },
    {
     "name": "stderr",
     "output_type": "stream",
     "text": [
      "Training:  14%|█▍        | 21/150 [02:34<15:40,  7.29s/it, c_train=0.6946, c_val=0.5861, loss=45.4]"
     ]
    },
    {
     "name": "stdout",
     "output_type": "stream",
     "text": [
      "📌 Epoch 20 | Loss: 45.4324 | Train C-Index: 0.6946 | Val C-Index: 0.5861\n"
     ]
    },
    {
     "name": "stderr",
     "output_type": "stream",
     "text": [
      "Training:  21%|██        | 31/150 [03:47<14:31,  7.32s/it, c_train=0.7183, c_val=0.6040, loss=36.3]"
     ]
    },
    {
     "name": "stdout",
     "output_type": "stream",
     "text": [
      "📌 Epoch 30 | Loss: 36.3338 | Train C-Index: 0.7183 | Val C-Index: 0.6040\n"
     ]
    },
    {
     "name": "stderr",
     "output_type": "stream",
     "text": [
      "Training:  27%|██▋       | 41/150 [05:01<13:18,  7.32s/it, c_train=0.7212, c_val=0.6137, loss=34.7]"
     ]
    },
    {
     "name": "stdout",
     "output_type": "stream",
     "text": [
      "📌 Epoch 40 | Loss: 34.6945 | Train C-Index: 0.7212 | Val C-Index: 0.6137\n"
     ]
    },
    {
     "name": "stderr",
     "output_type": "stream",
     "text": [
      "Training:  34%|███▍      | 51/150 [06:15<12:12,  7.40s/it, c_train=0.7239, c_val=0.6121, loss=34.2]"
     ]
    },
    {
     "name": "stdout",
     "output_type": "stream",
     "text": [
      "📌 Epoch 50 | Loss: 34.1849 | Train C-Index: 0.7239 | Val C-Index: 0.6121\n"
     ]
    },
    {
     "name": "stderr",
     "output_type": "stream",
     "text": [
      "Training:  41%|████      | 61/150 [07:34<12:04,  8.14s/it, c_train=0.7204, c_val=0.6072, loss=32.5]"
     ]
    },
    {
     "name": "stdout",
     "output_type": "stream",
     "text": [
      "📌 Epoch 60 | Loss: 32.5269 | Train C-Index: 0.7204 | Val C-Index: 0.6072\n"
     ]
    },
    {
     "name": "stderr",
     "output_type": "stream",
     "text": [
      "Training:  47%|████▋     | 71/150 [08:56<10:50,  8.23s/it, c_train=0.7351, c_val=0.6150, loss=32.2]"
     ]
    },
    {
     "name": "stdout",
     "output_type": "stream",
     "text": [
      "📌 Epoch 70 | Loss: 32.1632 | Train C-Index: 0.7351 | Val C-Index: 0.6150\n"
     ]
    },
    {
     "name": "stderr",
     "output_type": "stream",
     "text": [
      "Training:  54%|█████▍    | 81/150 [10:18<09:27,  8.23s/it, c_train=0.7367, c_val=0.6137, loss=31.8]"
     ]
    },
    {
     "name": "stdout",
     "output_type": "stream",
     "text": [
      "📌 Epoch 80 | Loss: 31.8390 | Train C-Index: 0.7367 | Val C-Index: 0.6137\n"
     ]
    },
    {
     "name": "stderr",
     "output_type": "stream",
     "text": [
      "Training:  61%|██████    | 91/150 [11:41<08:06,  8.24s/it, c_train=0.7373, c_val=0.6124, loss=31.1]"
     ]
    },
    {
     "name": "stdout",
     "output_type": "stream",
     "text": [
      "📌 Epoch 90 | Loss: 31.1356 | Train C-Index: 0.7373 | Val C-Index: 0.6124\n"
     ]
    },
    {
     "name": "stderr",
     "output_type": "stream",
     "text": [
      "Training:  67%|██████▋   | 101/150 [13:04<06:56,  8.49s/it, c_train=0.7339, c_val=0.6069, loss=31]  "
     ]
    },
    {
     "name": "stdout",
     "output_type": "stream",
     "text": [
      "📌 Epoch 100 | Loss: 30.9859 | Train C-Index: 0.7339 | Val C-Index: 0.6069\n"
     ]
    },
    {
     "name": "stderr",
     "output_type": "stream",
     "text": [
      "Training:  74%|███████▍  | 111/150 [14:26<05:22,  8.26s/it, c_train=0.7213, c_val=0.6043, loss=30.5]"
     ]
    },
    {
     "name": "stdout",
     "output_type": "stream",
     "text": [
      "📌 Epoch 110 | Loss: 30.5002 | Train C-Index: 0.7213 | Val C-Index: 0.6043\n"
     ]
    },
    {
     "name": "stderr",
     "output_type": "stream",
     "text": [
      "Training:  81%|████████  | 121/150 [15:49<03:59,  8.27s/it, c_train=0.7045, c_val=0.6049, loss=30.4]"
     ]
    },
    {
     "name": "stdout",
     "output_type": "stream",
     "text": [
      "📌 Epoch 120 | Loss: 30.4488 | Train C-Index: 0.7045 | Val C-Index: 0.6049\n"
     ]
    },
    {
     "name": "stderr",
     "output_type": "stream",
     "text": [
      "Training:  87%|████████▋ | 131/150 [17:08<02:23,  7.53s/it, c_train=0.7165, c_val=0.6098, loss=30.3]"
     ]
    },
    {
     "name": "stdout",
     "output_type": "stream",
     "text": [
      "📌 Epoch 130 | Loss: 30.2943 | Train C-Index: 0.7165 | Val C-Index: 0.6098\n"
     ]
    },
    {
     "name": "stderr",
     "output_type": "stream",
     "text": [
      "Training:  94%|█████████▍| 141/150 [18:22<01:06,  7.39s/it, c_train=0.7431, c_val=0.6134, loss=30.5]"
     ]
    },
    {
     "name": "stdout",
     "output_type": "stream",
     "text": [
      "📌 Epoch 140 | Loss: 30.4963 | Train C-Index: 0.7431 | Val C-Index: 0.6134\n"
     ]
    },
    {
     "name": "stderr",
     "output_type": "stream",
     "text": [
      "Training: 100%|██████████| 150/150 [19:28<00:00,  7.79s/it, c_train=0.7292, c_val=0.5923, loss=30.4]\n"
     ]
    }
   ],
   "execution_count": 91
  },
  {
   "metadata": {
    "ExecuteTime": {
     "end_time": "2025-08-04T08:20:39.218950Z",
     "start_time": "2025-08-04T08:20:39.215859Z"
    }
   },
   "cell_type": "code",
   "source": [
    "def estimate_baseline_hazard(times, events, risks):\n",
    "    # Sort by time descending\n",
    "    order = np.argsort(-times)\n",
    "    times = times[order]\n",
    "    events = events[order]\n",
    "    risks = risks[order]\n",
    "\n",
    "    H0 = {}\n",
    "    denom = 0.0\n",
    "    for t in np.unique(times):\n",
    "        idx = times == t\n",
    "        d = np.sum(events[idx])\n",
    "        r = np.sum(np.exp(risks[times >= t]))\n",
    "        if r > 0:\n",
    "            H0[t] = d / r\n",
    "    H0_cumsum = {}\n",
    "    cum = 0\n",
    "    for t in sorted(H0.keys()):\n",
    "        cum += H0[t]\n",
    "        H0_cumsum[t] = cum\n",
    "    return H0_cumsum\n"
   ],
   "id": "bb097aca9749f995",
   "outputs": [],
   "execution_count": 92
  },
  {
   "metadata": {
    "ExecuteTime": {
     "end_time": "2025-08-04T08:20:39.237856Z",
     "start_time": "2025-08-04T08:20:39.234013Z"
    }
   },
   "cell_type": "code",
   "source": [
    "import matplotlib.pyplot as plt\n",
    "import numpy as np\n",
    "\n",
    "def plot_survival_curve(risk_score, H0_func, max_t=5.0, step=0.1, highlight_time=None):\n",
    "    \"\"\"\n",
    "    Plot survival probability curve π(u|s) = exp(-H0(u) * exp(risk_score))\n",
    "\n",
    "    Args:\n",
    "        risk_score: float, predicted risk score for the patient\n",
    "        H0_func: baseline cumulative hazard function (interpolated)\n",
    "        max_t: maximum years since MCI to plot\n",
    "        step: time increment for plotting\n",
    "        highlight_time: float or None, optional time to draw a vertical line\n",
    "    \"\"\"\n",
    "    ts = np.arange(0, max_t + step, step)\n",
    "    surv_probs = [np.exp(-H0_func(t) * np.exp(risk_score)) for t in ts]\n",
    "\n",
    "    plt.figure(figsize=(7, 5))\n",
    "    plt.plot(ts, surv_probs, label=\"π(u|s)\")\n",
    "    plt.axhline(0.5, color='red', linestyle='--', label=\"Threshold 0.5\")\n",
    "\n",
    "    if highlight_time is not None:\n",
    "        plt.axvline(highlight_time, color='green', linestyle='-.', label=f\"Predicted Time = {highlight_time:.2f} yrs\")\n",
    "\n",
    "    plt.xlabel(\"Years Since MCI (u - s)\")\n",
    "    plt.ylabel(\"Survival Probability π(u|s)\")\n",
    "    plt.title(\"Survival Curve for One Patient\")\n",
    "    plt.legend()\n",
    "    plt.grid(True)\n",
    "    plt.show()\n"
   ],
   "id": "81ff6351e97a68b5",
   "outputs": [],
   "execution_count": 93
  },
  {
   "metadata": {
    "ExecuteTime": {
     "end_time": "2025-08-04T08:20:39.737044Z",
     "start_time": "2025-08-04T08:20:39.241841Z"
    }
   },
   "cell_type": "code",
   "source": [
    "model.eval()\n",
    "with torch.no_grad():\n",
    "    X_struct_test = X_struct_test.to(device)\n",
    "    X_image_test = X_image_test.to(device)\n",
    "    time_test = time_test.to(device)\n",
    "    event_test = event_test.to(device)\n",
    "\n",
    "    risk_scores = model(X_struct_test, X_image_test).cpu().numpy().reshape(-1)\n",
    "    time_np = time_test.cpu().numpy().reshape(-1)\n",
    "    event_np = event_test.cpu().numpy().reshape(-1)\n",
    "\n",
    "    H0_table = estimate_baseline_hazard(time_np, event_np, risk_scores)\n",
    "    H0_func = lambda u: np.interp(u, list(H0_table.keys()), list(H0_table.values()))\n",
    "\n",
    "    print(\"\\n📋 Predicted AD conversion time (Cox model, ±0.2 yr tolerance)\\n\")\n",
    "\n",
    "    hit_count = 0\n",
    "    total_count = 0\n",
    "\n",
    "    for i, risk_score in enumerate(risk_scores):\n",
    "        s = 0\n",
    "        max_years = 3.5\n",
    "        step = 0.01\n",
    "        threshold = 0.5\n",
    "\n",
    "        found_time = None\n",
    "        for u in np.arange(s + step, s + max_years, step):\n",
    "            H_t = H0_func(u) * np.exp(risk_score)\n",
    "            S_t = np.exp(-H_t)\n",
    "            if S_t < threshold:\n",
    "                found_time = round(u - s, 2)\n",
    "                break\n",
    "\n",
    "        t_true = time_np[i]\n",
    "        e_true = event_np[i]\n",
    "\n",
    "        if found_time is not None:\n",
    "            error = abs(found_time - t_true)\n",
    "\n",
    "            if e_true == 1:\n",
    "                is_hit = (error <= 0.2)\n",
    "                status = \"✅ HIT\" if is_hit else \"❌ MISS\"\n",
    "                if is_hit:\n",
    "                    hit_count += 1\n",
    "            else:\n",
    "                is_hit = (found_time >= t_true)\n",
    "                status = \"✅ OK (censored)\" if is_hit else \"❌ FAIL (censored)\"\n",
    "                if is_hit:\n",
    "                    hit_count += 1\n",
    "\n",
    "            print(f\"  - Patient {i:2d} | pred: {found_time:5.2f} yrs | true: {t_true:5.2f} yrs | event: {int(e_true)} | error: {error:.2f} → {status}\")\n",
    "\n",
    "        else:\n",
    "            # ❗ No threshold crossing = survived (at least 3.5 yrs)\n",
    "            if e_true == 0:\n",
    "                status = \"✅ SURVIVED (censored)\"\n",
    "                hit_count += 1\n",
    "            else:\n",
    "                status = \"❌ MISMATCH (should convert)\"\n",
    "            print(f\"  - Patient {i:2d} | pred:  survive    | true: {t_true:5.2f} yrs | event: {int(e_true)} → {status}\")\n",
    "\n",
    "        total_count += 1\n",
    "\n",
    "    print(f\"\\n🎯 Overall Prediction Accuracy (±0.2 yr or survived OK): {hit_count} / {total_count} = {hit_count/total_count:.2%}\")\n"
   ],
   "id": "fbfd8b03cfd595e9",
   "outputs": [
    {
     "name": "stdout",
     "output_type": "stream",
     "text": [
      "\n",
      "📋 Predicted AD conversion time (Cox model, ±0.2 yr tolerance)\n",
      "\n",
      "  - Patient  0 | pred:  2.60 yrs | true:  1.46 yrs | event: 1 | error: 1.14 → ❌ MISS\n",
      "  - Patient  1 | pred:  survive    | true:  2.02 yrs | event: 0 → ✅ SURVIVED (censored)\n",
      "  - Patient  2 | pred:  1.99 yrs | true:  0.51 yrs | event: 1 | error: 1.48 → ❌ MISS\n",
      "  - Patient  3 | pred:  2.63 yrs | true:  1.00 yrs | event: 1 | error: 1.63 → ❌ MISS\n",
      "  - Patient  4 | pred:  2.59 yrs | true:  3.01 yrs | event: 0 | error: 0.42 → ❌ FAIL (censored)\n",
      "  - Patient  5 | pred:  2.49 yrs | true:  1.49 yrs | event: 1 | error: 1.00 → ❌ MISS\n",
      "  - Patient  6 | pred:  2.57 yrs | true:  1.00 yrs | event: 1 | error: 1.57 → ❌ MISS\n",
      "  - Patient  7 | pred:  survive    | true:  0.44 yrs | event: 1 → ❌ MISMATCH (should convert)\n",
      "  - Patient  8 | pred:  2.70 yrs | true:  2.47 yrs | event: 0 | error: 0.23 → ✅ OK (censored)\n",
      "  - Patient  9 | pred:  2.56 yrs | true:  1.53 yrs | event: 1 | error: 1.03 → ❌ MISS\n",
      "  - Patient 10 | pred:  survive    | true:  1.51 yrs | event: 0 → ✅ SURVIVED (censored)\n",
      "  - Patient 11 | pred:  2.98 yrs | true:  3.06 yrs | event: 0 | error: 0.08 → ❌ FAIL (censored)\n",
      "  - Patient 12 | pred:  1.55 yrs | true:  1.00 yrs | event: 0 | error: 0.55 → ✅ OK (censored)\n",
      "  - Patient 13 | pred:  2.72 yrs | true:  1.00 yrs | event: 0 | error: 1.72 → ✅ OK (censored)\n",
      "  - Patient 14 | pred:  2.63 yrs | true:  1.02 yrs | event: 0 | error: 1.61 → ✅ OK (censored)\n",
      "  - Patient 15 | pred:  2.77 yrs | true:  0.93 yrs | event: 1 | error: 1.84 → ❌ MISS\n",
      "  - Patient 16 | pred:  survive    | true:  1.45 yrs | event: 0 → ✅ SURVIVED (censored)\n",
      "  - Patient 17 | pred:  2.90 yrs | true:  2.46 yrs | event: 0 | error: 0.44 → ✅ OK (censored)\n",
      "  - Patient 18 | pred:  2.51 yrs | true:  3.01 yrs | event: 0 | error: 0.50 → ❌ FAIL (censored)\n",
      "  - Patient 19 | pred:  2.03 yrs | true:  3.03 yrs | event: 0 | error: 1.00 → ❌ FAIL (censored)\n",
      "  - Patient 20 | pred:  survive    | true:  2.44 yrs | event: 0 → ✅ SURVIVED (censored)\n",
      "  - Patient 21 | pred:  survive    | true:  2.04 yrs | event: 0 → ✅ SURVIVED (censored)\n",
      "  - Patient 22 | pred:  survive    | true:  0.50 yrs | event: 1 → ❌ MISMATCH (should convert)\n",
      "  - Patient 23 | pred:  1.97 yrs | true:  3.03 yrs | event: 0 | error: 1.06 → ❌ FAIL (censored)\n",
      "  - Patient 24 | pred:  survive    | true:  1.02 yrs | event: 0 → ✅ SURVIVED (censored)\n",
      "  - Patient 25 | pred:  2.63 yrs | true:  3.00 yrs | event: 0 | error: 0.37 → ❌ FAIL (censored)\n",
      "  - Patient 26 | pred:  2.87 yrs | true:  1.45 yrs | event: 0 | error: 1.42 → ✅ OK (censored)\n",
      "  - Patient 27 | pred:  2.01 yrs | true:  2.57 yrs | event: 1 | error: 0.56 → ❌ MISS\n",
      "  - Patient 28 | pred:  survive    | true:  3.05 yrs | event: 0 → ✅ SURVIVED (censored)\n",
      "  - Patient 29 | pred:  2.68 yrs | true:  2.49 yrs | event: 1 | error: 0.19 → ✅ HIT\n",
      "  - Patient 30 | pred:  2.91 yrs | true:  2.44 yrs | event: 0 | error: 0.47 → ✅ OK (censored)\n",
      "  - Patient 31 | pred:  2.62 yrs | true:  0.97 yrs | event: 0 | error: 1.65 → ✅ OK (censored)\n",
      "  - Patient 32 | pred:  2.65 yrs | true:  0.99 yrs | event: 1 | error: 1.66 → ❌ MISS\n",
      "  - Patient 33 | pred:  survive    | true:  1.19 yrs | event: 0 → ✅ SURVIVED (censored)\n",
      "  - Patient 34 | pred:  2.53 yrs | true:  1.73 yrs | event: 0 | error: 0.80 → ✅ OK (censored)\n",
      "  - Patient 35 | pred:  survive    | true:  1.51 yrs | event: 0 → ✅ SURVIVED (censored)\n",
      "  - Patient 36 | pred:  survive    | true:  2.00 yrs | event: 0 → ✅ SURVIVED (censored)\n",
      "  - Patient 37 | pred:  2.75 yrs | true:  0.49 yrs | event: 1 | error: 2.26 → ❌ MISS\n",
      "  - Patient 38 | pred:  2.64 yrs | true:  2.07 yrs | event: 0 | error: 0.57 → ✅ OK (censored)\n",
      "  - Patient 39 | pred:  1.50 yrs | true:  2.08 yrs | event: 0 | error: 0.58 → ❌ FAIL (censored)\n",
      "  - Patient 40 | pred:  2.59 yrs | true:  2.02 yrs | event: 0 | error: 0.57 → ✅ OK (censored)\n",
      "  - Patient 41 | pred:  2.98 yrs | true:  1.00 yrs | event: 0 | error: 1.98 → ✅ OK (censored)\n",
      "  - Patient 42 | pred:  survive    | true:  2.12 yrs | event: 0 → ✅ SURVIVED (censored)\n",
      "  - Patient 43 | pred:  survive    | true:  1.02 yrs | event: 0 → ✅ SURVIVED (censored)\n",
      "  - Patient 44 | pred:  0.51 yrs | true:  1.49 yrs | event: 0 | error: 0.98 → ❌ FAIL (censored)\n",
      "  - Patient 45 | pred:  survive    | true:  1.97 yrs | event: 0 → ✅ SURVIVED (censored)\n",
      "  - Patient 46 | pred:  survive    | true:  0.79 yrs | event: 0 → ✅ SURVIVED (censored)\n",
      "  - Patient 47 | pred:  2.60 yrs | true:  1.02 yrs | event: 1 | error: 1.58 → ❌ MISS\n",
      "  - Patient 48 | pred:  survive    | true:  1.42 yrs | event: 0 → ✅ SURVIVED (censored)\n",
      "  - Patient 49 | pred:  0.51 yrs | true:  0.52 yrs | event: 1 | error: 0.01 → ✅ HIT\n",
      "  - Patient 50 | pred:  survive    | true:  1.01 yrs | event: 0 → ✅ SURVIVED (censored)\n",
      "  - Patient 51 | pred:  1.44 yrs | true:  2.53 yrs | event: 1 | error: 1.09 → ❌ MISS\n",
      "  - Patient 52 | pred:  2.59 yrs | true:  2.47 yrs | event: 0 | error: 0.12 → ✅ OK (censored)\n",
      "  - Patient 53 | pred:  survive    | true:  0.96 yrs | event: 1 → ❌ MISMATCH (should convert)\n",
      "  - Patient 54 | pred:  2.70 yrs | true:  2.53 yrs | event: 1 | error: 0.17 → ✅ HIT\n",
      "  - Patient 55 | pred:  1.48 yrs | true:  2.03 yrs | event: 1 | error: 0.55 → ❌ MISS\n",
      "  - Patient 56 | pred:  survive    | true:  2.48 yrs | event: 0 → ✅ SURVIVED (censored)\n",
      "  - Patient 57 | pred:  2.65 yrs | true:  1.00 yrs | event: 0 | error: 1.65 → ✅ OK (censored)\n",
      "  - Patient 58 | pred:  2.65 yrs | true:  2.58 yrs | event: 0 | error: 0.07 → ✅ OK (censored)\n",
      "  - Patient 59 | pred:  survive    | true:  2.98 yrs | event: 0 → ✅ SURVIVED (censored)\n",
      "  - Patient 60 | pred:  survive    | true:  3.04 yrs | event: 0 → ✅ SURVIVED (censored)\n",
      "  - Patient 61 | pred:  survive    | true:  1.05 yrs | event: 0 → ✅ SURVIVED (censored)\n",
      "  - Patient 62 | pred:  2.60 yrs | true:  1.55 yrs | event: 1 | error: 1.05 → ❌ MISS\n",
      "  - Patient 63 | pred:  survive    | true:  3.04 yrs | event: 0 → ✅ SURVIVED (censored)\n",
      "  - Patient 64 | pred:  2.98 yrs | true:  2.97 yrs | event: 0 | error: 0.01 → ✅ OK (censored)\n",
      "  - Patient 65 | pred:  survive    | true:  1.49 yrs | event: 0 → ✅ SURVIVED (censored)\n",
      "  - Patient 66 | pred:  2.53 yrs | true:  1.00 yrs | event: 1 | error: 1.53 → ❌ MISS\n",
      "  - Patient 67 | pred:  2.63 yrs | true:  1.48 yrs | event: 1 | error: 1.15 → ❌ MISS\n",
      "  - Patient 68 | pred:  survive    | true:  3.01 yrs | event: 0 → ✅ SURVIVED (censored)\n",
      "  - Patient 69 | pred:  2.65 yrs | true:  1.03 yrs | event: 1 | error: 1.62 → ❌ MISS\n",
      "  - Patient 70 | pred:  2.63 yrs | true:  1.45 yrs | event: 1 | error: 1.18 → ❌ MISS\n",
      "  - Patient 71 | pred:  survive    | true:  0.50 yrs | event: 1 → ❌ MISMATCH (should convert)\n",
      "  - Patient 72 | pred:  survive    | true:  2.45 yrs | event: 0 → ✅ SURVIVED (censored)\n",
      "  - Patient 73 | pred:  2.62 yrs | true:  1.49 yrs | event: 1 | error: 1.13 → ❌ MISS\n",
      "  - Patient 74 | pred:  2.57 yrs | true:  0.50 yrs | event: 1 | error: 2.07 → ❌ MISS\n",
      "  - Patient 75 | pred:  survive    | true:  2.48 yrs | event: 0 → ✅ SURVIVED (censored)\n",
      "  - Patient 76 | pred:  2.60 yrs | true:  2.97 yrs | event: 1 | error: 0.37 → ❌ MISS\n",
      "  - Patient 77 | pred:  survive    | true:  2.03 yrs | event: 0 → ✅ SURVIVED (censored)\n",
      "  - Patient 78 | pred:  2.64 yrs | true:  2.05 yrs | event: 0 | error: 0.59 → ✅ OK (censored)\n",
      "  - Patient 79 | pred:  2.49 yrs | true:  1.62 yrs | event: 0 | error: 0.87 → ✅ OK (censored)\n",
      "  - Patient 80 | pred:  2.77 yrs | true:  1.93 yrs | event: 0 | error: 0.84 → ✅ OK (censored)\n",
      "  - Patient 81 | pred:  survive    | true:  0.99 yrs | event: 0 → ✅ SURVIVED (censored)\n",
      "  - Patient 82 | pred:  2.63 yrs | true:  1.51 yrs | event: 0 | error: 1.12 → ✅ OK (censored)\n",
      "  - Patient 83 | pred:  survive    | true:  0.88 yrs | event: 0 → ✅ SURVIVED (censored)\n",
      "  - Patient 84 | pred:  survive    | true:  0.95 yrs | event: 0 → ✅ SURVIVED (censored)\n",
      "  - Patient 85 | pred:  2.60 yrs | true:  1.29 yrs | event: 0 | error: 1.31 → ✅ OK (censored)\n",
      "  - Patient 86 | pred:  survive    | true:  2.05 yrs | event: 0 → ✅ SURVIVED (censored)\n",
      "  - Patient 87 | pred:  survive    | true:  2.13 yrs | event: 0 → ✅ SURVIVED (censored)\n",
      "  - Patient 88 | pred:  2.81 yrs | true:  0.98 yrs | event: 0 | error: 1.83 → ✅ OK (censored)\n",
      "  - Patient 89 | pred:  2.64 yrs | true:  3.01 yrs | event: 0 | error: 0.37 → ❌ FAIL (censored)\n",
      "  - Patient 90 | pred:  2.80 yrs | true:  2.01 yrs | event: 1 | error: 0.79 → ❌ MISS\n",
      "  - Patient 91 | pred:  2.63 yrs | true:  2.52 yrs | event: 0 | error: 0.11 → ✅ OK (censored)\n",
      "  - Patient 92 | pred:  2.56 yrs | true:  1.46 yrs | event: 1 | error: 1.10 → ❌ MISS\n",
      "  - Patient 93 | pred:  2.93 yrs | true:  2.47 yrs | event: 0 | error: 0.46 → ✅ OK (censored)\n",
      "  - Patient 94 | pred:  2.57 yrs | true:  1.51 yrs | event: 1 | error: 1.06 → ❌ MISS\n",
      "  - Patient 95 | pred:  survive    | true:  1.49 yrs | event: 0 → ✅ SURVIVED (censored)\n",
      "  - Patient 96 | pred:  2.75 yrs | true:  1.96 yrs | event: 0 | error: 0.79 → ✅ OK (censored)\n",
      "  - Patient 97 | pred:  survive    | true:  1.02 yrs | event: 0 → ✅ SURVIVED (censored)\n",
      "  - Patient 98 | pred:  2.61 yrs | true:  2.98 yrs | event: 1 | error: 0.37 → ❌ MISS\n",
      "  - Patient 99 | pred:  2.57 yrs | true:  2.65 yrs | event: 1 | error: 0.08 → ✅ HIT\n",
      "  - Patient 100 | pred:  2.57 yrs | true:  1.02 yrs | event: 0 | error: 1.55 → ✅ OK (censored)\n",
      "  - Patient 101 | pred:  1.97 yrs | true:  1.99 yrs | event: 1 | error: 0.02 → ✅ HIT\n",
      "  - Patient 102 | pred:  2.98 yrs | true:  1.00 yrs | event: 0 | error: 1.98 → ✅ OK (censored)\n",
      "  - Patient 103 | pred:  survive    | true:  0.98 yrs | event: 0 → ✅ SURVIVED (censored)\n",
      "  - Patient 104 | pred:  survive    | true:  1.49 yrs | event: 0 → ✅ SURVIVED (censored)\n",
      "  - Patient 105 | pred:  survive    | true:  1.26 yrs | event: 0 → ✅ SURVIVED (censored)\n",
      "  - Patient 106 | pred:  2.98 yrs | true:  1.97 yrs | event: 1 | error: 1.01 → ❌ MISS\n",
      "  - Patient 107 | pred:  2.80 yrs | true:  0.94 yrs | event: 1 | error: 1.86 → ❌ MISS\n",
      "  - Patient 108 | pred:  2.51 yrs | true:  2.51 yrs | event: 1 | error: 0.00 → ✅ HIT\n",
      "  - Patient 109 | pred:  2.57 yrs | true:  1.53 yrs | event: 1 | error: 1.04 → ❌ MISS\n",
      "  - Patient 110 | pred:  2.62 yrs | true:  2.99 yrs | event: 0 | error: 0.37 → ❌ FAIL (censored)\n",
      "  - Patient 111 | pred:  2.82 yrs | true:  0.50 yrs | event: 1 | error: 2.32 → ❌ MISS\n",
      "  - Patient 112 | pred:  survive    | true:  2.55 yrs | event: 0 → ✅ SURVIVED (censored)\n",
      "  - Patient 113 | pred:  survive    | true:  1.02 yrs | event: 0 → ✅ SURVIVED (censored)\n",
      "  - Patient 114 | pred:  2.62 yrs | true:  1.47 yrs | event: 1 | error: 1.15 → ❌ MISS\n",
      "  - Patient 115 | pred:  2.95 yrs | true:  1.01 yrs | event: 0 | error: 1.94 → ✅ OK (censored)\n",
      "  - Patient 116 | pred:  2.65 yrs | true:  2.07 yrs | event: 0 | error: 0.58 → ✅ OK (censored)\n",
      "  - Patient 117 | pred:  survive    | true:  1.97 yrs | event: 0 → ✅ SURVIVED (censored)\n",
      "  - Patient 118 | pred:  1.02 yrs | true:  1.49 yrs | event: 0 | error: 0.47 → ❌ FAIL (censored)\n",
      "  - Patient 119 | pred:  2.57 yrs | true:  3.00 yrs | event: 0 | error: 0.43 → ❌ FAIL (censored)\n",
      "  - Patient 120 | pred:  survive    | true:  0.49 yrs | event: 1 → ❌ MISMATCH (should convert)\n",
      "  - Patient 121 | pred:  survive    | true:  2.47 yrs | event: 1 → ❌ MISMATCH (should convert)\n",
      "\n",
      "🎯 Overall Prediction Accuracy (±0.2 yr or survived OK): 74 / 122 = 60.66%\n"
     ]
    }
   ],
   "execution_count": 94
  },
  {
   "metadata": {
    "ExecuteTime": {
     "end_time": "2025-08-04T08:20:39.742920Z",
     "start_time": "2025-08-04T08:20:39.740495Z"
    }
   },
   "cell_type": "code",
   "source": [
    "# print(\"Risk score stats:\")\n",
    "print(\"mean:\", risk_scores.mean())\n",
    "print(\"std :\", risk_scores.std())\n",
    "print(\"min :\", risk_scores.min())\n",
    "print(\"max :\", risk_scores.max())\n"
   ],
   "id": "bae0856aab1a0df0",
   "outputs": [
    {
     "name": "stdout",
     "output_type": "stream",
     "text": [
      "mean: -0.7680893\n",
      "std : 1.8228984\n",
      "min : -9.321306\n",
      "max : 2.7935326\n"
     ]
    }
   ],
   "execution_count": 95
  },
  {
   "metadata": {
    "ExecuteTime": {
     "end_time": "2025-08-04T08:20:39.801564Z",
     "start_time": "2025-08-04T08:20:39.752825Z"
    }
   },
   "cell_type": "code",
   "source": [
    "import matplotlib.pyplot as plt\n",
    "\n",
    "exp_risks = np.exp(risk_scores)\n",
    "\n",
    "plt.hist(exp_risks, bins=20, color='skyblue', edgecolor='black')\n",
    "plt.title(\"Distribution of exp(risk score)\")\n",
    "plt.xlabel(\"exp(risk score)\")\n",
    "plt.ylabel(\"Count\")\n",
    "plt.grid(True)\n",
    "plt.show()\n"
   ],
   "id": "4fde2fbebb7473a2",
   "outputs": [
    {
     "data": {
      "text/plain": [
       "<Figure size 640x480 with 1 Axes>"
      ],
      "image/png": "[encoded data removed]"
     },
     "metadata": {},
     "output_type": "display_data"
    }
   ],
   "execution_count": 96
  },
  {
   "metadata": {
    "ExecuteTime": {
     "end_time": "2025-08-04T08:20:40.020587Z",
     "start_time": "2025-08-04T08:20:39.813572Z"
    }
   },
   "cell_type": "code",
   "source": [
    "import matplotlib.pyplot as plt\n",
    "import numpy as np\n",
    "\n",
    "# ✅ 모델 추론\n",
    "model.eval()\n",
    "with torch.no_grad():\n",
    "    risk_scores = model(X_struct_val, X_image_val).detach().cpu().numpy().reshape(-1)\n",
    "    events = event_val.cpu().numpy()\n",
    "\n",
    "# ✅ 시각화\n",
    "plt.figure(figsize=(10, 6))\n",
    "plt.hist(risk_scores[events == 1], bins=20, alpha=0.6, color='red', label='Event = 1 (AD)')\n",
    "plt.hist(risk_scores[events == 0], bins=20, alpha=0.6, color='blue', label='Event = 0 (Censored)')\n",
    "plt.axvline(np.mean(risk_scores), color='gray', linestyle='dashed', linewidth=1)\n",
    "plt.title('Risk Score Distribution by Event Type')\n",
    "plt.xlabel('Risk Score')\n",
    "plt.ylabel('Number of Patients')\n",
    "plt.legend()\n",
    "plt.grid(True)\n",
    "plt.show()\n"
   ],
   "id": "d24bc38037c3a980",
   "outputs": [
    {
     "data": {
      "text/plain": [
       "<Figure size 1000x600 with 1 Axes>"
      ],
      "image/png": "[encoded data removed]"
     },
     "metadata": {},
     "output_type": "display_data"
    }
   ],
   "execution_count": 97
  },
  {
   "metadata": {
    "ExecuteTime": {
     "end_time": "2025-08-04T08:20:40.036318Z",
     "start_time": "2025-08-04T08:20:40.033174Z"
    }
   },
   "cell_type": "code",
   "source": [
    "i = 14  # 14번째 환자 인덱스\n",
    "\n",
    "# ✅ Structured data\n",
    "print(\"📊 Structured Features:\")\n",
    "print(X_struct_test[i].cpu())\n",
    "\n",
    "# ✅ Image tensor\n",
    "print(\"\\n🖼️ Image Tensor (shape):\", X_image_test[i].shape)\n",
    "\n",
    "# ✅ Time to AD\n",
    "print(\"\\n⏱️ Time to AD:\", time_test[i].item())\n",
    "\n",
    "# ✅ Event (1=AD, 0=censored)\n",
    "print(\"📌 Event:\", int(event_test[i].item()))\n",
    "\n",
    "# ✅ Risk Score\n",
    "print(\"\\n⚠️ Predicted Risk Score:\", risk_scores[i])\n"
   ],
   "id": "2c1f57d3a957e83e",
   "outputs": [
    {
     "name": "stdout",
     "output_type": "stream",
     "text": [
      "📊 Structured Features:\n",
      "tensor([76.4000, 16.0000,  1.0000,  1.0000,  0.0000,  1.0000, 22.0000, 18.0000,\n",
      "        28.0000, 10.0000,  1.9767])\n",
      "\n",
      "🖼️ Image Tensor (shape): torch.Size([3, 224, 224])\n",
      "\n",
      "⏱️ Time to AD: 1.0157400369644165\n",
      "📌 Event: 0\n",
      "\n",
      "⚠️ Predicted Risk Score: 0.058856994\n"
     ]
    }
   ],
   "execution_count": 98
  },
  {
   "metadata": {
    "ExecuteTime": {
     "end_time": "2025-08-04T08:20:40.095849Z",
     "start_time": "2025-08-04T08:20:40.045774Z"
    }
   },
   "cell_type": "code",
   "source": "plot_survival_curve(risk_scores[28], H0_func, highlight_time=2.98)",
   "id": "86c888a1390a5398",
   "outputs": [
    {
     "data": {
      "text/plain": [
       "<Figure size 700x500 with 1 Axes>"
      ],
      "image/png": "[encoded data removed]"
     },
     "metadata": {},
     "output_type": "display_data"
    }
   ],
   "execution_count": 99
  }
 ],
 "metadata": {
  "kernelspec": {
   "display_name": "Python 3",
   "language": "python",
   "name": "python3"
  },
  "language_info": {
   "codemirror_mode": {
    "name": "ipython",
    "version": 2
   },
   "file_extension": ".py",
   "mimetype": "text/x-python",
   "name": "python",
   "nbconvert_exporter": "python",
   "pygments_lexer": "ipython2",
   "version": "2.7.6"
  }
 },
 "nbformat": 4,
 "nbformat_minor": 5
}
