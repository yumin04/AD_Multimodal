{
 "cells": [
  {
   "cell_type": "code",
   "execution_count": 1,
   "metadata": {},
   "outputs": [],
   "source": [
    "import os\n",
    "import pandas as pd\n",
    "import numpy as np"
   ]
  },
  {
   "cell_type": "code",
   "execution_count": 2,
   "metadata": {},
   "outputs": [],
   "source": [
    "# Path to your directory containing pickle files\n",
    "directory_path = \"/home/mason/TFN_AD/patients_csv\"\n",
    "\n",
    "sequence_lengths = []"
   ]
  },
  {
   "cell_type": "code",
   "execution_count": 3,
   "metadata": {},
   "outputs": [],
   "source": [
    "# Iterate through all files in the directory\n",
    "for filename in os.listdir(directory_path):\n",
    "    if filename.endswith(\".pkl\"):  # Process only pickle files\n",
    "        file_path = os.path.join(directory_path, filename)\n",
    "        \n",
    "        # Load the pickle into a pandas DataFrame\n",
    "        patient = pd.read_pickle(file_path)\n",
    "\n",
    "        # Append number of time series points to list.\n",
    "        sequence_lengths.append(len(patient))"
   ]
  },
  {
   "cell_type": "code",
   "execution_count": 4,
   "metadata": {},
   "outputs": [
    {
     "name": "stdout",
     "output_type": "stream",
     "text": [
      "Mean length: 5.107329842931938\n",
      "90th percentile: 6.0\n",
      "Max length: 6\n"
     ]
    }
   ],
   "source": [
    "print(\"Mean length:\", np.mean(sequence_lengths))\n",
    "print(\"90th percentile:\", np.percentile(sequence_lengths, 90))\n",
    "print(\"Max length:\", np.max(sequence_lengths))"
   ]
  }
 ],
 "metadata": {
  "kernelspec": {
   "display_name": "LOSresearch",
   "language": "python",
   "name": "python3"
  },
  "language_info": {
   "codemirror_mode": {
    "name": "ipython",
    "version": 3
   },
   "file_extension": ".py",
   "mimetype": "text/x-python",
   "name": "python",
   "nbconvert_exporter": "python",
   "pygments_lexer": "ipython3",
   "version": "3.9.18"
  }
 },
 "nbformat": 4,
 "nbformat_minor": 2
}
